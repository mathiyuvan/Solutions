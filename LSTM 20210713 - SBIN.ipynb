{
 "cells": [
  {
   "cell_type": "markdown",
   "metadata": {},
   "source": [
    "# Stock Market Prediction And Forecasting Using Stacked LSTM"
   ]
  },
  {
   "cell_type": "markdown",
   "metadata": {},
   "source": [
    "## Keras and Tensorflow >2.0"
   ]
  },
  {
   "cell_type": "code",
   "execution_count": 2,
   "metadata": {},
   "outputs": [],
   "source": [
    "from tensorflow.keras.models import Sequential\n",
    "from tensorflow.keras.layers import Dense\n",
    "from tensorflow.keras.layers import LSTM"
   ]
  },
  {
   "cell_type": "code",
   "execution_count": 6,
   "metadata": {},
   "outputs": [],
   "source": [
    "### Data Collection\n",
    "import pandas as pd\n",
    "df = pd.read_csv(\"SBIN.csv\")"
   ]
  },
  {
   "cell_type": "code",
   "execution_count": 7,
   "metadata": {},
   "outputs": [
    {
     "data": {
      "text/html": [
       "<div>\n",
       "<style scoped>\n",
       "    .dataframe tbody tr th:only-of-type {\n",
       "        vertical-align: middle;\n",
       "    }\n",
       "\n",
       "    .dataframe tbody tr th {\n",
       "        vertical-align: top;\n",
       "    }\n",
       "\n",
       "    .dataframe thead th {\n",
       "        text-align: right;\n",
       "    }\n",
       "</style>\n",
       "<table border=\"1\" class=\"dataframe\">\n",
       "  <thead>\n",
       "    <tr style=\"text-align: right;\">\n",
       "      <th></th>\n",
       "      <th>Date</th>\n",
       "      <th>Symbol</th>\n",
       "      <th>Series</th>\n",
       "      <th>Prev Close</th>\n",
       "      <th>Open</th>\n",
       "      <th>High</th>\n",
       "      <th>Low</th>\n",
       "      <th>Last</th>\n",
       "      <th>Close</th>\n",
       "      <th>VWAP</th>\n",
       "      <th>Volume</th>\n",
       "      <th>Turnover</th>\n",
       "      <th>Trades</th>\n",
       "      <th>Deliverable Volume</th>\n",
       "      <th>%Deliverble</th>\n",
       "    </tr>\n",
       "  </thead>\n",
       "  <tbody>\n",
       "    <tr>\n",
       "      <th>0</th>\n",
       "      <td>2000-01-03</td>\n",
       "      <td>SBIN</td>\n",
       "      <td>EQ</td>\n",
       "      <td>225.60</td>\n",
       "      <td>236.00</td>\n",
       "      <td>243.65</td>\n",
       "      <td>234.25</td>\n",
       "      <td>243.65</td>\n",
       "      <td>243.65</td>\n",
       "      <td>240.83</td>\n",
       "      <td>2373228</td>\n",
       "      <td>5.715338e+13</td>\n",
       "      <td>NaN</td>\n",
       "      <td>NaN</td>\n",
       "      <td>NaN</td>\n",
       "    </tr>\n",
       "    <tr>\n",
       "      <th>1</th>\n",
       "      <td>2000-01-04</td>\n",
       "      <td>SBIN</td>\n",
       "      <td>EQ</td>\n",
       "      <td>243.65</td>\n",
       "      <td>243.65</td>\n",
       "      <td>262.00</td>\n",
       "      <td>238.85</td>\n",
       "      <td>258.00</td>\n",
       "      <td>259.10</td>\n",
       "      <td>251.46</td>\n",
       "      <td>4495741</td>\n",
       "      <td>1.130506e+14</td>\n",
       "      <td>NaN</td>\n",
       "      <td>NaN</td>\n",
       "      <td>NaN</td>\n",
       "    </tr>\n",
       "    <tr>\n",
       "      <th>2</th>\n",
       "      <td>2000-01-05</td>\n",
       "      <td>SBIN</td>\n",
       "      <td>EQ</td>\n",
       "      <td>259.10</td>\n",
       "      <td>249.00</td>\n",
       "      <td>264.70</td>\n",
       "      <td>245.00</td>\n",
       "      <td>249.05</td>\n",
       "      <td>248.45</td>\n",
       "      <td>252.35</td>\n",
       "      <td>3434058</td>\n",
       "      <td>8.666008e+13</td>\n",
       "      <td>NaN</td>\n",
       "      <td>NaN</td>\n",
       "      <td>NaN</td>\n",
       "    </tr>\n",
       "    <tr>\n",
       "      <th>3</th>\n",
       "      <td>2000-01-06</td>\n",
       "      <td>SBIN</td>\n",
       "      <td>EQ</td>\n",
       "      <td>248.45</td>\n",
       "      <td>252.00</td>\n",
       "      <td>268.00</td>\n",
       "      <td>252.00</td>\n",
       "      <td>260.50</td>\n",
       "      <td>261.00</td>\n",
       "      <td>262.18</td>\n",
       "      <td>6658801</td>\n",
       "      <td>1.745817e+14</td>\n",
       "      <td>NaN</td>\n",
       "      <td>NaN</td>\n",
       "      <td>NaN</td>\n",
       "    </tr>\n",
       "    <tr>\n",
       "      <th>4</th>\n",
       "      <td>2000-01-07</td>\n",
       "      <td>SBIN</td>\n",
       "      <td>EQ</td>\n",
       "      <td>261.00</td>\n",
       "      <td>261.50</td>\n",
       "      <td>279.90</td>\n",
       "      <td>255.00</td>\n",
       "      <td>279.00</td>\n",
       "      <td>273.30</td>\n",
       "      <td>269.02</td>\n",
       "      <td>7873985</td>\n",
       "      <td>2.118287e+14</td>\n",
       "      <td>NaN</td>\n",
       "      <td>NaN</td>\n",
       "      <td>NaN</td>\n",
       "    </tr>\n",
       "  </tbody>\n",
       "</table>\n",
       "</div>"
      ],
      "text/plain": [
       "         Date Symbol Series  Prev Close    Open    High     Low    Last  \\\n",
       "0  2000-01-03   SBIN     EQ      225.60  236.00  243.65  234.25  243.65   \n",
       "1  2000-01-04   SBIN     EQ      243.65  243.65  262.00  238.85  258.00   \n",
       "2  2000-01-05   SBIN     EQ      259.10  249.00  264.70  245.00  249.05   \n",
       "3  2000-01-06   SBIN     EQ      248.45  252.00  268.00  252.00  260.50   \n",
       "4  2000-01-07   SBIN     EQ      261.00  261.50  279.90  255.00  279.00   \n",
       "\n",
       "    Close    VWAP   Volume      Turnover  Trades  Deliverable Volume  \\\n",
       "0  243.65  240.83  2373228  5.715338e+13     NaN                 NaN   \n",
       "1  259.10  251.46  4495741  1.130506e+14     NaN                 NaN   \n",
       "2  248.45  252.35  3434058  8.666008e+13     NaN                 NaN   \n",
       "3  261.00  262.18  6658801  1.745817e+14     NaN                 NaN   \n",
       "4  273.30  269.02  7873985  2.118287e+14     NaN                 NaN   \n",
       "\n",
       "   %Deliverble  \n",
       "0          NaN  \n",
       "1          NaN  \n",
       "2          NaN  \n",
       "3          NaN  \n",
       "4          NaN  "
      ]
     },
     "execution_count": 7,
     "metadata": {},
     "output_type": "execute_result"
    }
   ],
   "source": [
    "df.head()"
   ]
  },
  {
   "cell_type": "code",
   "execution_count": 8,
   "metadata": {},
   "outputs": [
    {
     "data": {
      "text/html": [
       "<div>\n",
       "<style scoped>\n",
       "    .dataframe tbody tr th:only-of-type {\n",
       "        vertical-align: middle;\n",
       "    }\n",
       "\n",
       "    .dataframe tbody tr th {\n",
       "        vertical-align: top;\n",
       "    }\n",
       "\n",
       "    .dataframe thead th {\n",
       "        text-align: right;\n",
       "    }\n",
       "</style>\n",
       "<table border=\"1\" class=\"dataframe\">\n",
       "  <thead>\n",
       "    <tr style=\"text-align: right;\">\n",
       "      <th></th>\n",
       "      <th>Date</th>\n",
       "      <th>Symbol</th>\n",
       "      <th>Series</th>\n",
       "      <th>Prev Close</th>\n",
       "      <th>Open</th>\n",
       "      <th>High</th>\n",
       "      <th>Low</th>\n",
       "      <th>Last</th>\n",
       "      <th>Close</th>\n",
       "      <th>VWAP</th>\n",
       "      <th>Volume</th>\n",
       "      <th>Turnover</th>\n",
       "      <th>Trades</th>\n",
       "      <th>Deliverable Volume</th>\n",
       "      <th>%Deliverble</th>\n",
       "    </tr>\n",
       "  </thead>\n",
       "  <tbody>\n",
       "    <tr>\n",
       "      <th>5136</th>\n",
       "      <td>2020-08-25</td>\n",
       "      <td>SBIN</td>\n",
       "      <td>EQ</td>\n",
       "      <td>201.45</td>\n",
       "      <td>204.00</td>\n",
       "      <td>208.45</td>\n",
       "      <td>202.70</td>\n",
       "      <td>208.25</td>\n",
       "      <td>207.95</td>\n",
       "      <td>206.34</td>\n",
       "      <td>105397006</td>\n",
       "      <td>2.174813e+15</td>\n",
       "      <td>475915.0</td>\n",
       "      <td>24003422.0</td>\n",
       "      <td>0.2277</td>\n",
       "    </tr>\n",
       "    <tr>\n",
       "      <th>5137</th>\n",
       "      <td>2020-08-26</td>\n",
       "      <td>SBIN</td>\n",
       "      <td>EQ</td>\n",
       "      <td>207.95</td>\n",
       "      <td>208.50</td>\n",
       "      <td>210.35</td>\n",
       "      <td>206.15</td>\n",
       "      <td>209.90</td>\n",
       "      <td>209.85</td>\n",
       "      <td>208.62</td>\n",
       "      <td>66750983</td>\n",
       "      <td>1.392576e+15</td>\n",
       "      <td>304925.0</td>\n",
       "      <td>14858804.0</td>\n",
       "      <td>0.2226</td>\n",
       "    </tr>\n",
       "    <tr>\n",
       "      <th>5138</th>\n",
       "      <td>2020-08-27</td>\n",
       "      <td>SBIN</td>\n",
       "      <td>EQ</td>\n",
       "      <td>209.85</td>\n",
       "      <td>210.50</td>\n",
       "      <td>216.50</td>\n",
       "      <td>210.50</td>\n",
       "      <td>216.00</td>\n",
       "      <td>215.65</td>\n",
       "      <td>214.22</td>\n",
       "      <td>80999489</td>\n",
       "      <td>1.735175e+15</td>\n",
       "      <td>450426.0</td>\n",
       "      <td>20980013.0</td>\n",
       "      <td>0.2590</td>\n",
       "    </tr>\n",
       "    <tr>\n",
       "      <th>5139</th>\n",
       "      <td>2020-08-28</td>\n",
       "      <td>SBIN</td>\n",
       "      <td>EQ</td>\n",
       "      <td>215.65</td>\n",
       "      <td>217.00</td>\n",
       "      <td>225.90</td>\n",
       "      <td>216.80</td>\n",
       "      <td>225.40</td>\n",
       "      <td>224.85</td>\n",
       "      <td>222.03</td>\n",
       "      <td>95983850</td>\n",
       "      <td>2.131162e+15</td>\n",
       "      <td>420611.0</td>\n",
       "      <td>19675199.0</td>\n",
       "      <td>0.2050</td>\n",
       "    </tr>\n",
       "    <tr>\n",
       "      <th>5140</th>\n",
       "      <td>2020-08-31</td>\n",
       "      <td>SBIN</td>\n",
       "      <td>EQ</td>\n",
       "      <td>224.85</td>\n",
       "      <td>231.55</td>\n",
       "      <td>231.55</td>\n",
       "      <td>210.35</td>\n",
       "      <td>211.90</td>\n",
       "      <td>212.00</td>\n",
       "      <td>219.31</td>\n",
       "      <td>119990567</td>\n",
       "      <td>2.631552e+15</td>\n",
       "      <td>562903.0</td>\n",
       "      <td>24560366.0</td>\n",
       "      <td>0.2047</td>\n",
       "    </tr>\n",
       "  </tbody>\n",
       "</table>\n",
       "</div>"
      ],
      "text/plain": [
       "            Date Symbol Series  Prev Close    Open    High     Low    Last  \\\n",
       "5136  2020-08-25   SBIN     EQ      201.45  204.00  208.45  202.70  208.25   \n",
       "5137  2020-08-26   SBIN     EQ      207.95  208.50  210.35  206.15  209.90   \n",
       "5138  2020-08-27   SBIN     EQ      209.85  210.50  216.50  210.50  216.00   \n",
       "5139  2020-08-28   SBIN     EQ      215.65  217.00  225.90  216.80  225.40   \n",
       "5140  2020-08-31   SBIN     EQ      224.85  231.55  231.55  210.35  211.90   \n",
       "\n",
       "       Close    VWAP     Volume      Turnover    Trades  Deliverable Volume  \\\n",
       "5136  207.95  206.34  105397006  2.174813e+15  475915.0          24003422.0   \n",
       "5137  209.85  208.62   66750983  1.392576e+15  304925.0          14858804.0   \n",
       "5138  215.65  214.22   80999489  1.735175e+15  450426.0          20980013.0   \n",
       "5139  224.85  222.03   95983850  2.131162e+15  420611.0          19675199.0   \n",
       "5140  212.00  219.31  119990567  2.631552e+15  562903.0          24560366.0   \n",
       "\n",
       "      %Deliverble  \n",
       "5136       0.2277  \n",
       "5137       0.2226  \n",
       "5138       0.2590  \n",
       "5139       0.2050  \n",
       "5140       0.2047  "
      ]
     },
     "execution_count": 8,
     "metadata": {},
     "output_type": "execute_result"
    }
   ],
   "source": [
    "df.tail()"
   ]
  },
  {
   "cell_type": "code",
   "execution_count": 9,
   "metadata": {},
   "outputs": [],
   "source": [
    "df1=df.reset_index()['Close']"
   ]
  },
  {
   "cell_type": "code",
   "execution_count": 10,
   "metadata": {},
   "outputs": [
    {
     "data": {
      "text/plain": [
       "0       243.65\n",
       "1       259.10\n",
       "2       248.45\n",
       "3       261.00\n",
       "4       273.30\n",
       "         ...  \n",
       "5136    207.95\n",
       "5137    209.85\n",
       "5138    215.65\n",
       "5139    224.85\n",
       "5140    212.00\n",
       "Name: Close, Length: 5141, dtype: float64"
      ]
     },
     "execution_count": 10,
     "metadata": {},
     "output_type": "execute_result"
    }
   ],
   "source": [
    "df1"
   ]
  },
  {
   "cell_type": "code",
   "execution_count": 12,
   "metadata": {},
   "outputs": [
    {
     "data": {
      "text/plain": [
       "[<matplotlib.lines.Line2D at 0x27fa6788d60>]"
      ]
     },
     "execution_count": 12,
     "metadata": {},
     "output_type": "execute_result"
    },
    {
     "data": {
      "image/png": "[encoded data removed]",
      "text/plain": [
       "<Figure size 432x288 with 1 Axes>"
      ]
     },
     "metadata": {
      "needs_background": "light"
     },
     "output_type": "display_data"
    }
   ],
   "source": [
    "import matplotlib.pyplot as plt\n",
    "plt.plot(df1)"
   ]
  },
  {
   "cell_type": "code",
   "execution_count": 13,
   "metadata": {},
   "outputs": [],
   "source": [
    "### LSTM are sensitive to the scale of the data. so we apply MinMax scaler"
   ]
  },
  {
   "cell_type": "code",
   "execution_count": 14,
   "metadata": {},
   "outputs": [],
   "source": [
    "import numpy as np"
   ]
  },
  {
   "cell_type": "code",
   "execution_count": 15,
   "metadata": {},
   "outputs": [
    {
     "data": {
      "text/plain": [
       "0       243.65\n",
       "1       259.10\n",
       "2       248.45\n",
       "3       261.00\n",
       "4       273.30\n",
       "         ...  \n",
       "5136    207.95\n",
       "5137    209.85\n",
       "5138    215.65\n",
       "5139    224.85\n",
       "5140    212.00\n",
       "Name: Close, Length: 5141, dtype: float64"
      ]
     },
     "execution_count": 15,
     "metadata": {},
     "output_type": "execute_result"
    }
   ],
   "source": [
    "df1"
   ]
  },
  {
   "cell_type": "code",
   "execution_count": 16,
   "metadata": {},
   "outputs": [],
   "source": [
    "from sklearn.preprocessing import MinMaxScaler\n",
    "scaler=MinMaxScaler(feature_range=(0,1))\n",
    "df1=scaler.fit_transform(np.array(df1).reshape(-1,1))"
   ]
  },
  {
   "cell_type": "code",
   "execution_count": 17,
   "metadata": {},
   "outputs": [
    {
     "name": "stdout",
     "output_type": "stream",
     "text": [
      "[[0.03052113]\n",
      " [0.03513514]\n",
      " [0.03195461]\n",
      " ...\n",
      " [0.02215918]\n",
      " [0.02490667]\n",
      " [0.02106914]]\n"
     ]
    }
   ],
   "source": [
    "print(df1)"
   ]
  },
  {
   "cell_type": "code",
   "execution_count": 18,
   "metadata": {},
   "outputs": [],
   "source": [
    "##splitting dataset into train and test split\n",
    "training_size=int(len(df1)*0.75)\n",
    "test_size=len(df1)-training_size\n",
    "train_data,test_data=df1[0:training_size,:],df1[training_size:len(df1),:1]"
   ]
  },
  {
   "cell_type": "code",
   "execution_count": 19,
   "metadata": {},
   "outputs": [
    {
     "data": {
      "text/plain": [
       "(3855, 1286)"
      ]
     },
     "execution_count": 19,
     "metadata": {},
     "output_type": "execute_result"
    }
   ],
   "source": [
    "training_size,test_size"
   ]
  },
  {
   "cell_type": "code",
   "execution_count": 20,
   "metadata": {},
   "outputs": [
    {
     "data": {
      "text/plain": [
       "array([[0.03052113],\n",
       "       [0.03513514],\n",
       "       [0.03195461],\n",
       "       ...,\n",
       "       [0.03379125],\n",
       "       [0.03394057],\n",
       "       [0.03483649]])"
      ]
     },
     "execution_count": 20,
     "metadata": {},
     "output_type": "execute_result"
    }
   ],
   "source": [
    "train_data"
   ]
  },
  {
   "cell_type": "code",
   "execution_count": 21,
   "metadata": {},
   "outputs": [],
   "source": [
    "import numpy\n",
    "# convert an array of values into a dataset matrix\n",
    "def create_dataset(dataset, time_step=1):\n",
    "\tdataX, dataY = [], []\n",
    "\tfor i in range(len(dataset)-time_step-1):\n",
    "\t\ta = dataset[i:(i+time_step), 0]   ###i=0, 0,1,2,3-----99   100 \n",
    "\t\tdataX.append(a)\n",
    "\t\tdataY.append(dataset[i + time_step, 0])\n",
    "\treturn numpy.array(dataX), numpy.array(dataY)"
   ]
  },
  {
   "cell_type": "code",
   "execution_count": 22,
   "metadata": {},
   "outputs": [],
   "source": [
    "# reshape into X=t,t+1,t+2,t+3 and Y=t+4\n",
    "time_step = 100\n",
    "X_train, y_train = create_dataset(train_data, time_step)\n",
    "X_test, ytest = create_dataset(test_data, time_step)"
   ]
  },
  {
   "cell_type": "code",
   "execution_count": 23,
   "metadata": {},
   "outputs": [
    {
     "name": "stdout",
     "output_type": "stream",
     "text": [
      "(3754, 100)\n",
      "(3754,)\n"
     ]
    },
    {
     "data": {
      "text/plain": [
       "(None, None)"
      ]
     },
     "execution_count": 23,
     "metadata": {},
     "output_type": "execute_result"
    }
   ],
   "source": [
    "print(X_train.shape), print(y_train.shape)"
   ]
  },
  {
   "cell_type": "code",
   "execution_count": 24,
   "metadata": {},
   "outputs": [
    {
     "name": "stdout",
     "output_type": "stream",
     "text": [
      "(1185, 100)\n",
      "(1185,)\n"
     ]
    },
    {
     "data": {
      "text/plain": [
       "(None, None)"
      ]
     },
     "execution_count": 24,
     "metadata": {},
     "output_type": "execute_result"
    }
   ],
   "source": [
    "\n",
    "print(X_test.shape), print(ytest.shape)"
   ]
  },
  {
   "cell_type": "code",
   "execution_count": 25,
   "metadata": {},
   "outputs": [],
   "source": [
    "# reshape input to be [samples, time steps, features] which is required for LSTM\n",
    "X_train =X_train.reshape(X_train.shape[0],X_train.shape[1] , 1)\n",
    "X_test = X_test.reshape(X_test.shape[0],X_test.shape[1] , 1)"
   ]
  },
  {
   "cell_type": "code",
   "execution_count": 26,
   "metadata": {},
   "outputs": [],
   "source": [
    "model=Sequential()\n",
    "model.add(LSTM(50,return_sequences=True,input_shape=(100,1)))\n",
    "model.add(LSTM(50,return_sequences=True))\n",
    "model.add(LSTM(50))\n",
    "model.add(Dense(1))\n",
    "model.compile(loss='mean_squared_error',optimizer='adam')"
   ]
  },
  {
   "cell_type": "code",
   "execution_count": 27,
   "metadata": {},
   "outputs": [
    {
     "name": "stdout",
     "output_type": "stream",
     "text": [
      "Model: \"sequential\"\n",
      "_________________________________________________________________\n",
      "Layer (type)                 Output Shape              Param #   \n",
      "=================================================================\n",
      "lstm (LSTM)                  (None, 100, 50)           10400     \n",
      "_________________________________________________________________\n",
      "lstm_1 (LSTM)                (None, 100, 50)           20200     \n",
      "_________________________________________________________________\n",
      "lstm_2 (LSTM)                (None, 50)                20200     \n",
      "_________________________________________________________________\n",
      "dense (Dense)                (None, 1)                 51        \n",
      "=================================================================\n",
      "Total params: 50,851\n",
      "Trainable params: 50,851\n",
      "Non-trainable params: 0\n",
      "_________________________________________________________________\n"
     ]
    }
   ],
   "source": [
    "model.summary()"
   ]
  },
  {
   "cell_type": "code",
   "execution_count": 28,
   "metadata": {},
   "outputs": [
    {
     "name": "stdout",
     "output_type": "stream",
     "text": [
      "Epoch 1/100\n",
      "59/59 [==============================] - 32s 312ms/step - loss: 0.0394 - val_loss: 9.0421e-05\n",
      "Epoch 2/100\n",
      "59/59 [==============================] - 11s 192ms/step - loss: 0.0016 - val_loss: 4.0886e-05\n",
      "Epoch 3/100\n",
      "59/59 [==============================] - 13s 225ms/step - loss: 0.0024 - val_loss: 2.7128e-05\n",
      "Epoch 4/100\n",
      "59/59 [==============================] - 13s 222ms/step - loss: 0.0015 - val_loss: 2.4291e-05\n",
      "Epoch 5/100\n",
      "59/59 [==============================] - 19s 323ms/step - loss: 0.0014 - val_loss: 2.2630e-05\n",
      "Epoch 6/100\n",
      "59/59 [==============================] - 14s 242ms/step - loss: 0.0016 - val_loss: 5.3471e-05\n",
      "Epoch 7/100\n",
      "59/59 [==============================] - 14s 240ms/step - loss: 0.0016 - val_loss: 2.1331e-05\n",
      "Epoch 8/100\n",
      "59/59 [==============================] - 15s 261ms/step - loss: 0.0012 - val_loss: 1.8139e-05\n",
      "Epoch 9/100\n",
      "59/59 [==============================] - 15s 262ms/step - loss: 8.7515e-04 - val_loss: 2.2187e-05\n",
      "Epoch 10/100\n",
      "59/59 [==============================] - 15s 260ms/step - loss: 8.0216e-04 - val_loss: 2.2347e-05\n",
      "Epoch 11/100\n",
      "59/59 [==============================] - 15s 250ms/step - loss: 9.9494e-04 - val_loss: 1.6207e-05\n",
      "Epoch 12/100\n",
      "59/59 [==============================] - 14s 242ms/step - loss: 6.2441e-04 - val_loss: 3.8126e-05\n",
      "Epoch 13/100\n",
      "59/59 [==============================] - 15s 257ms/step - loss: 8.1598e-04 - val_loss: 1.4375e-05\n",
      "Epoch 14/100\n",
      "59/59 [==============================] - 14s 237ms/step - loss: 5.5580e-04 - val_loss: 1.5052e-05\n",
      "Epoch 15/100\n",
      "59/59 [==============================] - 14s 243ms/step - loss: 8.0509e-04 - val_loss: 2.6871e-05\n",
      "Epoch 16/100\n",
      "59/59 [==============================] - 13s 228ms/step - loss: 0.0010 - val_loss: 2.2904e-05\n",
      "Epoch 17/100\n",
      "59/59 [==============================] - 14s 234ms/step - loss: 5.4757e-04 - val_loss: 1.4931e-05\n",
      "Epoch 18/100\n",
      "59/59 [==============================] - 14s 230ms/step - loss: 4.6903e-04 - val_loss: 1.2947e-05\n",
      "Epoch 19/100\n",
      "59/59 [==============================] - 14s 230ms/step - loss: 5.0260e-04 - val_loss: 1.4264e-05s - loss: 4\n",
      "Epoch 20/100\n",
      "59/59 [==============================] - 13s 223ms/step - loss: 4.1952e-04 - val_loss: 1.5253e-05\n",
      "Epoch 21/100\n",
      "59/59 [==============================] - 14s 231ms/step - loss: 2.6262e-04 - val_loss: 2.8702e-05\n",
      "Epoch 22/100\n",
      "59/59 [==============================] - 13s 221ms/step - loss: 3.0330e-04 - val_loss: 1.6968e-05\n",
      "Epoch 23/100\n",
      "59/59 [==============================] - 13s 226ms/step - loss: 2.7868e-04 - val_loss: 1.3182e-05TA: 2s - los\n",
      "Epoch 24/100\n",
      "59/59 [==============================] - 14s 230ms/step - loss: 2.9999e-04 - val_loss: 1.2397e-05\n",
      "Epoch 25/100\n",
      "59/59 [==============================] - 13s 213ms/step - loss: 5.1252e-04 - val_loss: 9.8284e-06\n",
      "Epoch 26/100\n",
      "59/59 [==============================] - 14s 230ms/step - loss: 5.0509e-04 - val_loss: 1.3770e-05\n",
      "Epoch 27/100\n",
      "59/59 [==============================] - 12s 203ms/step - loss: 3.2606e-04 - val_loss: 9.7262e-06\n",
      "Epoch 28/100\n",
      "59/59 [==============================] - 13s 225ms/step - loss: 2.4603e-04 - val_loss: 1.1772e-05\n",
      "Epoch 29/100\n",
      "59/59 [==============================] - 13s 225ms/step - loss: 3.4245e-04 - val_loss: 9.6816e-06\n",
      "Epoch 30/100\n",
      "59/59 [==============================] - 14s 233ms/step - loss: 3.4429e-04 - val_loss: 8.7854e-06\n",
      "Epoch 31/100\n",
      "59/59 [==============================] - 13s 227ms/step - loss: 2.1100e-04 - val_loss: 2.2359e-05\n",
      "Epoch 32/100\n",
      "59/59 [==============================] - 13s 223ms/step - loss: 3.8121e-04 - val_loss: 1.1187e-05\n",
      "Epoch 33/100\n",
      "59/59 [==============================] - 13s 225ms/step - loss: 2.8335e-04 - val_loss: 8.3041e-06\n",
      "Epoch 34/100\n",
      "59/59 [==============================] - 14s 230ms/step - loss: 3.0734e-04 - val_loss: 8.4214e-06\n",
      "Epoch 35/100\n",
      "59/59 [==============================] - 14s 232ms/step - loss: 2.7560e-04 - val_loss: 8.6310e-06\n",
      "Epoch 36/100\n",
      "59/59 [==============================] - 14s 236ms/step - loss: 3.5859e-04 - val_loss: 7.8805e-06\n",
      "Epoch 37/100\n",
      "59/59 [==============================] - 14s 232ms/step - loss: 1.9032e-04 - val_loss: 2.2963e-05\n",
      "Epoch 38/100\n",
      "59/59 [==============================] - 13s 227ms/step - loss: 3.7654e-04 - val_loss: 8.0131e-06\n",
      "Epoch 39/100\n",
      "59/59 [==============================] - 13s 227ms/step - loss: 2.9403e-04 - val_loss: 7.9282e-06\n",
      "Epoch 40/100\n",
      "59/59 [==============================] - 12s 209ms/step - loss: 2.6784e-04 - val_loss: 9.2574e-06\n",
      "Epoch 41/100\n",
      "59/59 [==============================] - 12s 207ms/step - loss: 5.5790e-04 - val_loss: 1.2191e-05\n",
      "Epoch 42/100\n",
      "59/59 [==============================] - 12s 205ms/step - loss: 3.8840e-04 - val_loss: 1.5058e-05\n",
      "Epoch 43/100\n",
      "59/59 [==============================] - 12s 207ms/step - loss: 2.4639e-04 - val_loss: 1.4664e-05\n",
      "Epoch 44/100\n",
      "59/59 [==============================] - 12s 210ms/step - loss: 6.1645e-04 - val_loss: 2.2330e-05\n",
      "Epoch 45/100\n",
      "59/59 [==============================] - 12s 203ms/step - loss: 3.7987e-04 - val_loss: 7.3262e-06\n",
      "Epoch 46/100\n",
      "59/59 [==============================] - 12s 200ms/step - loss: 7.4710e-04 - val_loss: 7.2407e-06\n",
      "Epoch 47/100\n",
      "59/59 [==============================] - 12s 201ms/step - loss: 2.5684e-04 - val_loss: 7.8589e-06\n",
      "Epoch 48/100\n",
      "59/59 [==============================] - 12s 206ms/step - loss: 5.9665e-04 - val_loss: 9.3847e-06\n",
      "Epoch 49/100\n",
      "59/59 [==============================] - 13s 219ms/step - loss: 2.5807e-04 - val_loss: 9.8106e-06\n",
      "Epoch 50/100\n",
      "59/59 [==============================] - 13s 212ms/step - loss: 1.8307e-04 - val_loss: 8.6892e-06\n",
      "Epoch 51/100\n",
      "59/59 [==============================] - 14s 232ms/step - loss: 2.8510e-04 - val_loss: 9.4730e-06\n",
      "Epoch 52/100\n",
      "59/59 [==============================] - 12s 211ms/step - loss: 2.7597e-04 - val_loss: 1.2849e-05\n",
      "Epoch 53/100\n",
      "59/59 [==============================] - 12s 204ms/step - loss: 1.8215e-04 - val_loss: 2.7125e-05\n",
      "Epoch 54/100\n",
      "59/59 [==============================] - 12s 202ms/step - loss: 1.6526e-04 - val_loss: 6.8711e-06\n",
      "Epoch 55/100\n",
      "59/59 [==============================] - 12s 211ms/step - loss: 2.6488e-04 - val_loss: 1.3590e-05\n",
      "Epoch 56/100\n",
      "59/59 [==============================] - 13s 213ms/step - loss: 3.7072e-04 - val_loss: 1.6686e-05\n",
      "Epoch 57/100\n",
      "59/59 [==============================] - 13s 215ms/step - loss: 3.5768e-04 - val_loss: 6.8366e-06\n",
      "Epoch 58/100\n",
      "59/59 [==============================] - 13s 222ms/step - loss: 2.5305e-04 - val_loss: 1.4372e-05\n",
      "Epoch 59/100\n",
      "59/59 [==============================] - 13s 219ms/step - loss: 1.5979e-04 - val_loss: 9.7615e-06\n",
      "Epoch 60/100\n",
      "59/59 [==============================] - 13s 227ms/step - loss: 3.2936e-04 - val_loss: 3.1091e-05\n",
      "Epoch 61/100\n",
      "59/59 [==============================] - 13s 221ms/step - loss: 5.0744e-04 - val_loss: 1.4352e-05\n",
      "Epoch 62/100\n",
      "59/59 [==============================] - 13s 224ms/step - loss: 2.5017e-04 - val_loss: 3.0202e-05\n",
      "Epoch 63/100\n",
      "59/59 [==============================] - 14s 230ms/step - loss: 2.6617e-04 - val_loss: 1.3078e-05\n",
      "Epoch 64/100\n",
      "59/59 [==============================] - 15s 247ms/step - loss: 1.6973e-04 - val_loss: 7.0998e-06\n",
      "Epoch 65/100\n",
      "59/59 [==============================] - 15s 259ms/step - loss: 4.8315e-04 - val_loss: 1.0852e-05\n",
      "Epoch 66/100\n",
      "59/59 [==============================] - 15s 251ms/step - loss: 2.4377e-04 - val_loss: 1.0025e-05\n",
      "Epoch 67/100\n",
      "59/59 [==============================] - 14s 245ms/step - loss: 3.7227e-04 - val_loss: 6.5504e-06\n",
      "Epoch 68/100\n",
      "59/59 [==============================] - 13s 229ms/step - loss: 2.2953e-04 - val_loss: 2.8854e-05\n",
      "Epoch 69/100\n",
      "59/59 [==============================] - 13s 217ms/step - loss: 4.4481e-04 - val_loss: 6.7899e-06\n",
      "Epoch 70/100\n",
      "59/59 [==============================] - 13s 227ms/step - loss: 1.6307e-04 - val_loss: 1.1868e-05\n",
      "Epoch 71/100\n",
      "59/59 [==============================] - 12s 198ms/step - loss: 3.0154e-04 - val_loss: 6.2671e-06\n",
      "Epoch 72/100\n",
      "59/59 [==============================] - 12s 209ms/step - loss: 3.3961e-04 - val_loss: 6.1622e-06\n",
      "Epoch 73/100\n",
      "59/59 [==============================] - 12s 199ms/step - loss: 1.3559e-04 - val_loss: 6.4091e-06\n",
      "Epoch 74/100\n",
      "59/59 [==============================] - 12s 200ms/step - loss: 2.2987e-04 - val_loss: 9.5488e-05\n",
      "Epoch 75/100\n"
     ]
    },
    {
     "name": "stdout",
     "output_type": "stream",
     "text": [
      "59/59 [==============================] - 12s 208ms/step - loss: 8.4334e-04 - val_loss: 8.1596e-06\n",
      "Epoch 76/100\n",
      "59/59 [==============================] - 13s 228ms/step - loss: 2.8671e-04 - val_loss: 1.3546e-05\n",
      "Epoch 77/100\n",
      "59/59 [==============================] - 13s 215ms/step - loss: 1.8451e-04 - val_loss: 2.3853e-05\n",
      "Epoch 78/100\n",
      "59/59 [==============================] - 12s 208ms/step - loss: 1.4921e-04 - val_loss: 1.3621e-04\n",
      "Epoch 79/100\n",
      "59/59 [==============================] - 12s 210ms/step - loss: 2.7778e-04 - val_loss: 8.2187e-06\n",
      "Epoch 80/100\n",
      "59/59 [==============================] - 12s 195ms/step - loss: 4.6067e-04 - val_loss: 6.8601e-06\n",
      "Epoch 81/100\n",
      "59/59 [==============================] - 13s 217ms/step - loss: 2.2367e-04 - val_loss: 6.0215e-06\n",
      "Epoch 82/100\n",
      "59/59 [==============================] - 13s 222ms/step - loss: 1.4257e-04 - val_loss: 6.6809e-06\n",
      "Epoch 83/100\n",
      "59/59 [==============================] - 12s 199ms/step - loss: 1.7047e-04 - val_loss: 2.7276e-05: 5s - loss: 1.509 - ETA: 4s - loss: 1.4898e-0 - E\n",
      "Epoch 84/100\n",
      "59/59 [==============================] - 12s 206ms/step - loss: 1.9992e-04 - val_loss: 5.9765e-06\n",
      "Epoch 85/100\n",
      "59/59 [==============================] - 11s 189ms/step - loss: 4.7661e-04 - val_loss: 7.4383e-06\n",
      "Epoch 86/100\n",
      "59/59 [==============================] - 11s 189ms/step - loss: 4.2976e-04 - val_loss: 7.1747e-06\n",
      "Epoch 87/100\n",
      "59/59 [==============================] - 11s 186ms/step - loss: 2.6021e-04 - val_loss: 1.8991e-05\n",
      "Epoch 88/100\n",
      "59/59 [==============================] - 11s 193ms/step - loss: 2.7087e-04 - val_loss: 2.4722e-05\n",
      "Epoch 89/100\n",
      "59/59 [==============================] - 11s 188ms/step - loss: 5.4611e-04 - val_loss: 6.0546e-06\n",
      "Epoch 90/100\n",
      "59/59 [==============================] - 12s 198ms/step - loss: 2.2684e-04 - val_loss: 1.2173e-05\n",
      "Epoch 91/100\n",
      "59/59 [==============================] - 12s 196ms/step - loss: 2.0593e-04 - val_loss: 1.1468e-05\n",
      "Epoch 92/100\n",
      "59/59 [==============================] - 11s 186ms/step - loss: 1.5836e-04 - val_loss: 7.7082e-06\n",
      "Epoch 93/100\n",
      "59/59 [==============================] - 11s 186ms/step - loss: 2.8504e-04 - val_loss: 1.2657e-05\n",
      "Epoch 94/100\n",
      "59/59 [==============================] - 11s 186ms/step - loss: 3.3440e-04 - val_loss: 6.6365e-06\n",
      "Epoch 95/100\n",
      "59/59 [==============================] - 11s 194ms/step - loss: 5.9377e-04 - val_loss: 5.5634e-06\n",
      "Epoch 96/100\n",
      "59/59 [==============================] - 11s 187ms/step - loss: 1.9359e-04 - val_loss: 2.2139e-05\n",
      "Epoch 97/100\n",
      "59/59 [==============================] - 11s 190ms/step - loss: 1.4309e-04 - val_loss: 1.1012e-04\n",
      "Epoch 98/100\n",
      "59/59 [==============================] - 11s 193ms/step - loss: 2.3253e-04 - val_loss: 5.7830e-06\n",
      "Epoch 99/100\n",
      "59/59 [==============================] - 11s 189ms/step - loss: 1.8783e-04 - val_loss: 1.2183e-05\n",
      "Epoch 100/100\n",
      "59/59 [==============================] - 11s 186ms/step - loss: 3.4765e-04 - val_loss: 1.0389e-05\n"
     ]
    },
    {
     "data": {
      "text/plain": [
       "<tensorflow.python.keras.callbacks.History at 0x27fa8a19670>"
      ]
     },
     "execution_count": 28,
     "metadata": {},
     "output_type": "execute_result"
    }
   ],
   "source": [
    "model.fit(X_train,y_train,validation_data=(X_test,ytest),epochs=100,batch_size=64,verbose=1)"
   ]
  },
  {
   "cell_type": "code",
   "execution_count": 44,
   "metadata": {},
   "outputs": [],
   "source": [
    "import tensorflow as tf"
   ]
  },
  {
   "cell_type": "code",
   "execution_count": 45,
   "metadata": {},
   "outputs": [
    {
     "data": {
      "text/plain": [
       "'2.4.1'"
      ]
     },
     "execution_count": 45,
     "metadata": {},
     "output_type": "execute_result"
    }
   ],
   "source": [
    "tf.__version__"
   ]
  },
  {
   "cell_type": "code",
   "execution_count": 46,
   "metadata": {},
   "outputs": [],
   "source": [
    "### Lets Do the prediction and check performance metrics\n",
    "train_predict=model.predict(X_train)\n",
    "test_predict=model.predict(X_test)"
   ]
  },
  {
   "cell_type": "code",
   "execution_count": 47,
   "metadata": {},
   "outputs": [],
   "source": [
    "##Transformback to original form\n",
    "train_predict=scaler.inverse_transform(train_predict)\n",
    "test_predict=scaler.inverse_transform(test_predict)"
   ]
  },
  {
   "cell_type": "code",
   "execution_count": 48,
   "metadata": {},
   "outputs": [
    {
     "data": {
      "text/plain": [
       "1537.1234025110791"
      ]
     },
     "execution_count": 48,
     "metadata": {},
     "output_type": "execute_result"
    }
   ],
   "source": [
    "### Calculate RMSE performance metrics\n",
    "import math\n",
    "from sklearn.metrics import mean_squared_error\n",
    "math.sqrt(mean_squared_error(y_train,train_predict))"
   ]
  },
  {
   "cell_type": "code",
   "execution_count": 49,
   "metadata": {},
   "outputs": [
    {
     "data": {
      "text/plain": [
       "276.20301086340226"
      ]
     },
     "execution_count": 49,
     "metadata": {},
     "output_type": "execute_result"
    }
   ],
   "source": [
    "### Test Data RMSE\n",
    "math.sqrt(mean_squared_error(ytest,test_predict))"
   ]
  },
  {
   "cell_type": "code",
   "execution_count": 50,
   "metadata": {},
   "outputs": [
    {
     "data": {
      "image/png": "[encoded data removed]",
      "text/plain": [
       "<Figure size 432x288 with 1 Axes>"
      ]
     },
     "metadata": {
      "needs_background": "light"
     },
     "output_type": "display_data"
    }
   ],
   "source": [
    "### Plotting \n",
    "# shift train predictions for plotting\n",
    "look_back=100\n",
    "trainPredictPlot = numpy.empty_like(df1)\n",
    "trainPredictPlot[:, :] = np.nan\n",
    "trainPredictPlot[look_back:len(train_predict)+look_back, :] = train_predict\n",
    "# shift test predictions for plotting\n",
    "testPredictPlot = numpy.empty_like(df1)\n",
    "testPredictPlot[:, :] = numpy.nan\n",
    "testPredictPlot[len(train_predict)+(look_back*2)+1:len(df1)-1, :] = test_predict\n",
    "# plot baseline and predictions\n",
    "plt.plot(scaler.inverse_transform(df1))\n",
    "plt.plot(trainPredictPlot)\n",
    "plt.plot(testPredictPlot)\n",
    "plt.show()"
   ]
  },
  {
   "cell_type": "code",
   "execution_count": 51,
   "metadata": {},
   "outputs": [
    {
     "data": {
      "text/plain": [
       "1286"
      ]
     },
     "execution_count": 51,
     "metadata": {},
     "output_type": "execute_result"
    }
   ],
   "source": [
    "len(test_data)"
   ]
  },
  {
   "cell_type": "code",
   "execution_count": 52,
   "metadata": {},
   "outputs": [
    {
     "data": {
      "text/plain": [
       "(1, 100)"
      ]
     },
     "execution_count": 52,
     "metadata": {},
     "output_type": "execute_result"
    }
   ],
   "source": [
    "x_input=test_data[1186:].reshape(1,-1)\n",
    "x_input.shape"
   ]
  },
  {
   "cell_type": "code",
   "execution_count": 53,
   "metadata": {},
   "outputs": [],
   "source": [
    "temp_input=list(x_input)\n",
    "temp_input=temp_input[0].tolist()"
   ]
  },
  {
   "cell_type": "code",
   "execution_count": 54,
   "metadata": {},
   "outputs": [
    {
     "data": {
      "text/plain": [
       "[0.012408541137822908,\n",
       " 0.013827086755263555,\n",
       " 0.012557861729132452,\n",
       " 0.012214424369120506,\n",
       " 0.014051067642227869,\n",
       " 0.015469613259668509,\n",
       " 0.015245632372704203,\n",
       " 0.012931163207406303,\n",
       " 0.014110795878751678,\n",
       " 0.013513513513513514,\n",
       " 0.011437957294310887,\n",
       " 0.01178139465432284,\n",
       " 0.012796774675227725,\n",
       " 0.0145288935344184,\n",
       " 0.014648350007466032,\n",
       " 0.011169180229953717,\n",
       " 0.008645662236822463,\n",
       " 0.008854711064655817,\n",
       " 0.008750186650739143,\n",
       " 0.007525757802000904,\n",
       " 0.007167388382857999,\n",
       " 0.007600418097655673,\n",
       " 0.009750634612513069,\n",
       " 0.007913991339405707,\n",
       " 0.0074510975063461285,\n",
       " 0.00413618037927431,\n",
       " 0.0033895774227266015,\n",
       " 0.0035687621322980506,\n",
       " 0.0031357324175003767,\n",
       " 0.0028072271166193832,\n",
       " 0.002971479767059887,\n",
       " 0.005121696281917276,\n",
       " 0.0050022398088696435,\n",
       " 0.005928027474988808,\n",
       " 0.00854113782290579,\n",
       " 0.008600866059429599,\n",
       " 0.009989547558608342,\n",
       " 0.009735702553382117,\n",
       " 0.013842018814394515,\n",
       " 0.013543377631775433,\n",
       " 0.012841570852620575,\n",
       " 0.013812154696132596,\n",
       " 0.010661490219501274,\n",
       " 0.011258772584739445,\n",
       " 0.009631178139465436,\n",
       " 0.009392265193370171,\n",
       " 0.009407197252501123,\n",
       " 0.011408093176048982,\n",
       " 0.012856502911751534,\n",
       " 0.013812154696132596,\n",
       " 0.015230700313573244,\n",
       " 0.012886367030013439,\n",
       " 0.013080483798715847,\n",
       " 0.012886367030013439,\n",
       " 0.01128863670300135,\n",
       " 0.011049723756906077,\n",
       " 0.012946095266537262,\n",
       " 0.013140212035239664,\n",
       " 0.01291623114827535,\n",
       " 0.013916679110049283,\n",
       " 0.014080931760489773,\n",
       " 0.015066447663132754,\n",
       " 0.01721666417799015,\n",
       " 0.016171420038823353,\n",
       " 0.015305360609228012,\n",
       " 0.01331939674481112,\n",
       " 0.01264745408391818,\n",
       " 0.01337912498133493,\n",
       " 0.01396147528744214,\n",
       " 0.014723010303120808,\n",
       " 0.015813050619680462,\n",
       " 0.015096311781394658,\n",
       " 0.016962819172763925,\n",
       " 0.0150813797222637,\n",
       " 0.013647902045692106,\n",
       " 0.014334776765715991,\n",
       " 0.014857398835299386,\n",
       " 0.013468717336120657,\n",
       " 0.014932059130954162,\n",
       " 0.015170972077049427,\n",
       " 0.014976855308347026,\n",
       " 0.014932059130954162,\n",
       " 0.014782738539644617,\n",
       " 0.014693146184858896,\n",
       " 0.015633865910109013,\n",
       " 0.016007167388382863,\n",
       " 0.0184709571449903,\n",
       " 0.018052859489323586,\n",
       " 0.01644019710318053,\n",
       " 0.015424817082275645,\n",
       " 0.016022099447513816,\n",
       " 0.016604449753621034,\n",
       " 0.015917575033597135,\n",
       " 0.01700761535015679,\n",
       " 0.017918470957144994,\n",
       " 0.01985963864416903,\n",
       " 0.020427056891145295,\n",
       " 0.022159175750335977,\n",
       " 0.024906674630431544,\n",
       " 0.021069135433776323]"
      ]
     },
     "execution_count": 54,
     "metadata": {},
     "output_type": "execute_result"
    }
   ],
   "source": [
    "temp_input"
   ]
  },
  {
   "cell_type": "code",
   "execution_count": 55,
   "metadata": {
    "scrolled": true
   },
   "outputs": [
    {
     "name": "stdout",
     "output_type": "stream",
     "text": [
      "[0.02490279]\n",
      "101\n",
      "1 day input [0.01382709 0.01255786 0.01221442 0.01405107 0.01546961 0.01524563\n",
      " 0.01293116 0.0141108  0.01351351 0.01143796 0.01178139 0.01279677\n",
      " 0.01452889 0.01464835 0.01116918 0.00864566 0.00885471 0.00875019\n",
      " 0.00752576 0.00716739 0.00760042 0.00975063 0.00791399 0.0074511\n",
      " 0.00413618 0.00338958 0.00356876 0.00313573 0.00280723 0.00297148\n",
      " 0.0051217  0.00500224 0.00592803 0.00854114 0.00860087 0.00998955\n",
      " 0.0097357  0.01384202 0.01354338 0.01284157 0.01381215 0.01066149\n",
      " 0.01125877 0.00963118 0.00939227 0.0094072  0.01140809 0.0128565\n",
      " 0.01381215 0.0152307  0.01288637 0.01308048 0.01288637 0.01128864\n",
      " 0.01104972 0.0129461  0.01314021 0.01291623 0.01391668 0.01408093\n",
      " 0.01506645 0.01721666 0.01617142 0.01530536 0.0133194  0.01264745\n",
      " 0.01337912 0.01396148 0.01472301 0.01581305 0.01509631 0.01696282\n",
      " 0.01508138 0.0136479  0.01433478 0.0148574  0.01346872 0.01493206\n",
      " 0.01517097 0.01497686 0.01493206 0.01478274 0.01469315 0.01563387\n",
      " 0.01600717 0.01847096 0.01805286 0.0164402  0.01542482 0.0160221\n",
      " 0.01660445 0.01591758 0.01700762 0.01791847 0.01985964 0.02042706\n",
      " 0.02215918 0.02490667 0.02106914 0.02490279]\n",
      "1 day output [[0.02559288]]\n",
      "2 day input [0.01255786 0.01221442 0.01405107 0.01546961 0.01524563 0.01293116\n",
      " 0.0141108  0.01351351 0.01143796 0.01178139 0.01279677 0.01452889\n",
      " 0.01464835 0.01116918 0.00864566 0.00885471 0.00875019 0.00752576\n",
      " 0.00716739 0.00760042 0.00975063 0.00791399 0.0074511  0.00413618\n",
      " 0.00338958 0.00356876 0.00313573 0.00280723 0.00297148 0.0051217\n",
      " 0.00500224 0.00592803 0.00854114 0.00860087 0.00998955 0.0097357\n",
      " 0.01384202 0.01354338 0.01284157 0.01381215 0.01066149 0.01125877\n",
      " 0.00963118 0.00939227 0.0094072  0.01140809 0.0128565  0.01381215\n",
      " 0.0152307  0.01288637 0.01308048 0.01288637 0.01128864 0.01104972\n",
      " 0.0129461  0.01314021 0.01291623 0.01391668 0.01408093 0.01506645\n",
      " 0.01721666 0.01617142 0.01530536 0.0133194  0.01264745 0.01337912\n",
      " 0.01396148 0.01472301 0.01581305 0.01509631 0.01696282 0.01508138\n",
      " 0.0136479  0.01433478 0.0148574  0.01346872 0.01493206 0.01517097\n",
      " 0.01497686 0.01493206 0.01478274 0.01469315 0.01563387 0.01600717\n",
      " 0.01847096 0.01805286 0.0164402  0.01542482 0.0160221  0.01660445\n",
      " 0.01591758 0.01700762 0.01791847 0.01985964 0.02042706 0.02215918\n",
      " 0.02490667 0.02106914 0.02490279 0.02559288]\n",
      "2 day output [[0.02649985]]\n",
      "3 day input [0.01221442 0.01405107 0.01546961 0.01524563 0.01293116 0.0141108\n",
      " 0.01351351 0.01143796 0.01178139 0.01279677 0.01452889 0.01464835\n",
      " 0.01116918 0.00864566 0.00885471 0.00875019 0.00752576 0.00716739\n",
      " 0.00760042 0.00975063 0.00791399 0.0074511  0.00413618 0.00338958\n",
      " 0.00356876 0.00313573 0.00280723 0.00297148 0.0051217  0.00500224\n",
      " 0.00592803 0.00854114 0.00860087 0.00998955 0.0097357  0.01384202\n",
      " 0.01354338 0.01284157 0.01381215 0.01066149 0.01125877 0.00963118\n",
      " 0.00939227 0.0094072  0.01140809 0.0128565  0.01381215 0.0152307\n",
      " 0.01288637 0.01308048 0.01288637 0.01128864 0.01104972 0.0129461\n",
      " 0.01314021 0.01291623 0.01391668 0.01408093 0.01506645 0.01721666\n",
      " 0.01617142 0.01530536 0.0133194  0.01264745 0.01337912 0.01396148\n",
      " 0.01472301 0.01581305 0.01509631 0.01696282 0.01508138 0.0136479\n",
      " 0.01433478 0.0148574  0.01346872 0.01493206 0.01517097 0.01497686\n",
      " 0.01493206 0.01478274 0.01469315 0.01563387 0.01600717 0.01847096\n",
      " 0.01805286 0.0164402  0.01542482 0.0160221  0.01660445 0.01591758\n",
      " 0.01700762 0.01791847 0.01985964 0.02042706 0.02215918 0.02490667\n",
      " 0.02106914 0.02490279 0.02559288 0.02649985]\n",
      "3 day output [[0.02748615]]\n",
      "4 day input [0.01405107 0.01546961 0.01524563 0.01293116 0.0141108  0.01351351\n",
      " 0.01143796 0.01178139 0.01279677 0.01452889 0.01464835 0.01116918\n",
      " 0.00864566 0.00885471 0.00875019 0.00752576 0.00716739 0.00760042\n",
      " 0.00975063 0.00791399 0.0074511  0.00413618 0.00338958 0.00356876\n",
      " 0.00313573 0.00280723 0.00297148 0.0051217  0.00500224 0.00592803\n",
      " 0.00854114 0.00860087 0.00998955 0.0097357  0.01384202 0.01354338\n",
      " 0.01284157 0.01381215 0.01066149 0.01125877 0.00963118 0.00939227\n",
      " 0.0094072  0.01140809 0.0128565  0.01381215 0.0152307  0.01288637\n",
      " 0.01308048 0.01288637 0.01128864 0.01104972 0.0129461  0.01314021\n",
      " 0.01291623 0.01391668 0.01408093 0.01506645 0.01721666 0.01617142\n",
      " 0.01530536 0.0133194  0.01264745 0.01337912 0.01396148 0.01472301\n",
      " 0.01581305 0.01509631 0.01696282 0.01508138 0.0136479  0.01433478\n",
      " 0.0148574  0.01346872 0.01493206 0.01517097 0.01497686 0.01493206\n",
      " 0.01478274 0.01469315 0.01563387 0.01600717 0.01847096 0.01805286\n",
      " 0.0164402  0.01542482 0.0160221  0.01660445 0.01591758 0.01700762\n",
      " 0.01791847 0.01985964 0.02042706 0.02215918 0.02490667 0.02106914\n",
      " 0.02490279 0.02559288 0.02649985 0.02748615]\n",
      "4 day output [[0.02848978]]\n",
      "5 day input [0.01546961 0.01524563 0.01293116 0.0141108  0.01351351 0.01143796\n",
      " 0.01178139 0.01279677 0.01452889 0.01464835 0.01116918 0.00864566\n",
      " 0.00885471 0.00875019 0.00752576 0.00716739 0.00760042 0.00975063\n",
      " 0.00791399 0.0074511  0.00413618 0.00338958 0.00356876 0.00313573\n",
      " 0.00280723 0.00297148 0.0051217  0.00500224 0.00592803 0.00854114\n",
      " 0.00860087 0.00998955 0.0097357  0.01384202 0.01354338 0.01284157\n",
      " 0.01381215 0.01066149 0.01125877 0.00963118 0.00939227 0.0094072\n",
      " 0.01140809 0.0128565  0.01381215 0.0152307  0.01288637 0.01308048\n",
      " 0.01288637 0.01128864 0.01104972 0.0129461  0.01314021 0.01291623\n",
      " 0.01391668 0.01408093 0.01506645 0.01721666 0.01617142 0.01530536\n",
      " 0.0133194  0.01264745 0.01337912 0.01396148 0.01472301 0.01581305\n",
      " 0.01509631 0.01696282 0.01508138 0.0136479  0.01433478 0.0148574\n",
      " 0.01346872 0.01493206 0.01517097 0.01497686 0.01493206 0.01478274\n",
      " 0.01469315 0.01563387 0.01600717 0.01847096 0.01805286 0.0164402\n",
      " 0.01542482 0.0160221  0.01660445 0.01591758 0.01700762 0.01791847\n",
      " 0.01985964 0.02042706 0.02215918 0.02490667 0.02106914 0.02490279\n",
      " 0.02559288 0.02649985 0.02748615 0.02848978]\n",
      "5 day output [[0.0294932]]\n",
      "6 day input [0.01524563 0.01293116 0.0141108  0.01351351 0.01143796 0.01178139\n",
      " 0.01279677 0.01452889 0.01464835 0.01116918 0.00864566 0.00885471\n",
      " 0.00875019 0.00752576 0.00716739 0.00760042 0.00975063 0.00791399\n",
      " 0.0074511  0.00413618 0.00338958 0.00356876 0.00313573 0.00280723\n",
      " 0.00297148 0.0051217  0.00500224 0.00592803 0.00854114 0.00860087\n",
      " 0.00998955 0.0097357  0.01384202 0.01354338 0.01284157 0.01381215\n",
      " 0.01066149 0.01125877 0.00963118 0.00939227 0.0094072  0.01140809\n",
      " 0.0128565  0.01381215 0.0152307  0.01288637 0.01308048 0.01288637\n",
      " 0.01128864 0.01104972 0.0129461  0.01314021 0.01291623 0.01391668\n",
      " 0.01408093 0.01506645 0.01721666 0.01617142 0.01530536 0.0133194\n",
      " 0.01264745 0.01337912 0.01396148 0.01472301 0.01581305 0.01509631\n",
      " 0.01696282 0.01508138 0.0136479  0.01433478 0.0148574  0.01346872\n",
      " 0.01493206 0.01517097 0.01497686 0.01493206 0.01478274 0.01469315\n",
      " 0.01563387 0.01600717 0.01847096 0.01805286 0.0164402  0.01542482\n",
      " 0.0160221  0.01660445 0.01591758 0.01700762 0.01791847 0.01985964\n",
      " 0.02042706 0.02215918 0.02490667 0.02106914 0.02490279 0.02559288\n",
      " 0.02649985 0.02748615 0.02848978 0.0294932 ]\n",
      "6 day output [[0.03049313]]\n",
      "7 day input [0.01293116 0.0141108  0.01351351 0.01143796 0.01178139 0.01279677\n",
      " 0.01452889 0.01464835 0.01116918 0.00864566 0.00885471 0.00875019\n",
      " 0.00752576 0.00716739 0.00760042 0.00975063 0.00791399 0.0074511\n",
      " 0.00413618 0.00338958 0.00356876 0.00313573 0.00280723 0.00297148\n",
      " 0.0051217  0.00500224 0.00592803 0.00854114 0.00860087 0.00998955\n",
      " 0.0097357  0.01384202 0.01354338 0.01284157 0.01381215 0.01066149\n",
      " 0.01125877 0.00963118 0.00939227 0.0094072  0.01140809 0.0128565\n",
      " 0.01381215 0.0152307  0.01288637 0.01308048 0.01288637 0.01128864\n",
      " 0.01104972 0.0129461  0.01314021 0.01291623 0.01391668 0.01408093\n",
      " 0.01506645 0.01721666 0.01617142 0.01530536 0.0133194  0.01264745\n",
      " 0.01337912 0.01396148 0.01472301 0.01581305 0.01509631 0.01696282\n",
      " 0.01508138 0.0136479  0.01433478 0.0148574  0.01346872 0.01493206\n",
      " 0.01517097 0.01497686 0.01493206 0.01478274 0.01469315 0.01563387\n",
      " 0.01600717 0.01847096 0.01805286 0.0164402  0.01542482 0.0160221\n",
      " 0.01660445 0.01591758 0.01700762 0.01791847 0.01985964 0.02042706\n",
      " 0.02215918 0.02490667 0.02106914 0.02490279 0.02559288 0.02649985\n",
      " 0.02748615 0.02848978 0.0294932  0.03049313]\n",
      "7 day output [[0.03148924]]\n",
      "8 day input [0.0141108  0.01351351 0.01143796 0.01178139 0.01279677 0.01452889\n",
      " 0.01464835 0.01116918 0.00864566 0.00885471 0.00875019 0.00752576\n",
      " 0.00716739 0.00760042 0.00975063 0.00791399 0.0074511  0.00413618\n",
      " 0.00338958 0.00356876 0.00313573 0.00280723 0.00297148 0.0051217\n",
      " 0.00500224 0.00592803 0.00854114 0.00860087 0.00998955 0.0097357\n",
      " 0.01384202 0.01354338 0.01284157 0.01381215 0.01066149 0.01125877\n",
      " 0.00963118 0.00939227 0.0094072  0.01140809 0.0128565  0.01381215\n",
      " 0.0152307  0.01288637 0.01308048 0.01288637 0.01128864 0.01104972\n",
      " 0.0129461  0.01314021 0.01291623 0.01391668 0.01408093 0.01506645\n",
      " 0.01721666 0.01617142 0.01530536 0.0133194  0.01264745 0.01337912\n",
      " 0.01396148 0.01472301 0.01581305 0.01509631 0.01696282 0.01508138\n",
      " 0.0136479  0.01433478 0.0148574  0.01346872 0.01493206 0.01517097\n",
      " 0.01497686 0.01493206 0.01478274 0.01469315 0.01563387 0.01600717\n",
      " 0.01847096 0.01805286 0.0164402  0.01542482 0.0160221  0.01660445\n",
      " 0.01591758 0.01700762 0.01791847 0.01985964 0.02042706 0.02215918\n",
      " 0.02490667 0.02106914 0.02490279 0.02559288 0.02649985 0.02748615\n",
      " 0.02848978 0.0294932  0.03049313 0.03148924]\n",
      "8 day output [[0.03248156]]\n",
      "9 day input [0.01351351 0.01143796 0.01178139 0.01279677 0.01452889 0.01464835\n",
      " 0.01116918 0.00864566 0.00885471 0.00875019 0.00752576 0.00716739\n",
      " 0.00760042 0.00975063 0.00791399 0.0074511  0.00413618 0.00338958\n",
      " 0.00356876 0.00313573 0.00280723 0.00297148 0.0051217  0.00500224\n",
      " 0.00592803 0.00854114 0.00860087 0.00998955 0.0097357  0.01384202\n",
      " 0.01354338 0.01284157 0.01381215 0.01066149 0.01125877 0.00963118\n",
      " 0.00939227 0.0094072  0.01140809 0.0128565  0.01381215 0.0152307\n",
      " 0.01288637 0.01308048 0.01288637 0.01128864 0.01104972 0.0129461\n",
      " 0.01314021 0.01291623 0.01391668 0.01408093 0.01506645 0.01721666\n",
      " 0.01617142 0.01530536 0.0133194  0.01264745 0.01337912 0.01396148\n",
      " 0.01472301 0.01581305 0.01509631 0.01696282 0.01508138 0.0136479\n",
      " 0.01433478 0.0148574  0.01346872 0.01493206 0.01517097 0.01497686\n",
      " 0.01493206 0.01478274 0.01469315 0.01563387 0.01600717 0.01847096\n",
      " 0.01805286 0.0164402  0.01542482 0.0160221  0.01660445 0.01591758\n",
      " 0.01700762 0.01791847 0.01985964 0.02042706 0.02215918 0.02490667\n",
      " 0.02106914 0.02490279 0.02559288 0.02649985 0.02748615 0.02848978\n",
      " 0.0294932  0.03049313 0.03148924 0.03248156]\n"
     ]
    },
    {
     "name": "stdout",
     "output_type": "stream",
     "text": [
      "9 day output [[0.03347014]]\n",
      "10 day input [0.01143796 0.01178139 0.01279677 0.01452889 0.01464835 0.01116918\n",
      " 0.00864566 0.00885471 0.00875019 0.00752576 0.00716739 0.00760042\n",
      " 0.00975063 0.00791399 0.0074511  0.00413618 0.00338958 0.00356876\n",
      " 0.00313573 0.00280723 0.00297148 0.0051217  0.00500224 0.00592803\n",
      " 0.00854114 0.00860087 0.00998955 0.0097357  0.01384202 0.01354338\n",
      " 0.01284157 0.01381215 0.01066149 0.01125877 0.00963118 0.00939227\n",
      " 0.0094072  0.01140809 0.0128565  0.01381215 0.0152307  0.01288637\n",
      " 0.01308048 0.01288637 0.01128864 0.01104972 0.0129461  0.01314021\n",
      " 0.01291623 0.01391668 0.01408093 0.01506645 0.01721666 0.01617142\n",
      " 0.01530536 0.0133194  0.01264745 0.01337912 0.01396148 0.01472301\n",
      " 0.01581305 0.01509631 0.01696282 0.01508138 0.0136479  0.01433478\n",
      " 0.0148574  0.01346872 0.01493206 0.01517097 0.01497686 0.01493206\n",
      " 0.01478274 0.01469315 0.01563387 0.01600717 0.01847096 0.01805286\n",
      " 0.0164402  0.01542482 0.0160221  0.01660445 0.01591758 0.01700762\n",
      " 0.01791847 0.01985964 0.02042706 0.02215918 0.02490667 0.02106914\n",
      " 0.02490279 0.02559288 0.02649985 0.02748615 0.02848978 0.0294932\n",
      " 0.03049313 0.03148924 0.03248156 0.03347014]\n",
      "10 day output [[0.03445506]]\n",
      "11 day input [0.01178139 0.01279677 0.01452889 0.01464835 0.01116918 0.00864566\n",
      " 0.00885471 0.00875019 0.00752576 0.00716739 0.00760042 0.00975063\n",
      " 0.00791399 0.0074511  0.00413618 0.00338958 0.00356876 0.00313573\n",
      " 0.00280723 0.00297148 0.0051217  0.00500224 0.00592803 0.00854114\n",
      " 0.00860087 0.00998955 0.0097357  0.01384202 0.01354338 0.01284157\n",
      " 0.01381215 0.01066149 0.01125877 0.00963118 0.00939227 0.0094072\n",
      " 0.01140809 0.0128565  0.01381215 0.0152307  0.01288637 0.01308048\n",
      " 0.01288637 0.01128864 0.01104972 0.0129461  0.01314021 0.01291623\n",
      " 0.01391668 0.01408093 0.01506645 0.01721666 0.01617142 0.01530536\n",
      " 0.0133194  0.01264745 0.01337912 0.01396148 0.01472301 0.01581305\n",
      " 0.01509631 0.01696282 0.01508138 0.0136479  0.01433478 0.0148574\n",
      " 0.01346872 0.01493206 0.01517097 0.01497686 0.01493206 0.01478274\n",
      " 0.01469315 0.01563387 0.01600717 0.01847096 0.01805286 0.0164402\n",
      " 0.01542482 0.0160221  0.01660445 0.01591758 0.01700762 0.01791847\n",
      " 0.01985964 0.02042706 0.02215918 0.02490667 0.02106914 0.02490279\n",
      " 0.02559288 0.02649985 0.02748615 0.02848978 0.0294932  0.03049313\n",
      " 0.03148924 0.03248156 0.03347014 0.03445506]\n",
      "11 day output [[0.03543651]]\n",
      "12 day input [0.01279677 0.01452889 0.01464835 0.01116918 0.00864566 0.00885471\n",
      " 0.00875019 0.00752576 0.00716739 0.00760042 0.00975063 0.00791399\n",
      " 0.0074511  0.00413618 0.00338958 0.00356876 0.00313573 0.00280723\n",
      " 0.00297148 0.0051217  0.00500224 0.00592803 0.00854114 0.00860087\n",
      " 0.00998955 0.0097357  0.01384202 0.01354338 0.01284157 0.01381215\n",
      " 0.01066149 0.01125877 0.00963118 0.00939227 0.0094072  0.01140809\n",
      " 0.0128565  0.01381215 0.0152307  0.01288637 0.01308048 0.01288637\n",
      " 0.01128864 0.01104972 0.0129461  0.01314021 0.01291623 0.01391668\n",
      " 0.01408093 0.01506645 0.01721666 0.01617142 0.01530536 0.0133194\n",
      " 0.01264745 0.01337912 0.01396148 0.01472301 0.01581305 0.01509631\n",
      " 0.01696282 0.01508138 0.0136479  0.01433478 0.0148574  0.01346872\n",
      " 0.01493206 0.01517097 0.01497686 0.01493206 0.01478274 0.01469315\n",
      " 0.01563387 0.01600717 0.01847096 0.01805286 0.0164402  0.01542482\n",
      " 0.0160221  0.01660445 0.01591758 0.01700762 0.01791847 0.01985964\n",
      " 0.02042706 0.02215918 0.02490667 0.02106914 0.02490279 0.02559288\n",
      " 0.02649985 0.02748615 0.02848978 0.0294932  0.03049313 0.03148924\n",
      " 0.03248156 0.03347014 0.03445506 0.03543651]\n",
      "12 day output [[0.03641474]]\n",
      "13 day input [0.01452889 0.01464835 0.01116918 0.00864566 0.00885471 0.00875019\n",
      " 0.00752576 0.00716739 0.00760042 0.00975063 0.00791399 0.0074511\n",
      " 0.00413618 0.00338958 0.00356876 0.00313573 0.00280723 0.00297148\n",
      " 0.0051217  0.00500224 0.00592803 0.00854114 0.00860087 0.00998955\n",
      " 0.0097357  0.01384202 0.01354338 0.01284157 0.01381215 0.01066149\n",
      " 0.01125877 0.00963118 0.00939227 0.0094072  0.01140809 0.0128565\n",
      " 0.01381215 0.0152307  0.01288637 0.01308048 0.01288637 0.01128864\n",
      " 0.01104972 0.0129461  0.01314021 0.01291623 0.01391668 0.01408093\n",
      " 0.01506645 0.01721666 0.01617142 0.01530536 0.0133194  0.01264745\n",
      " 0.01337912 0.01396148 0.01472301 0.01581305 0.01509631 0.01696282\n",
      " 0.01508138 0.0136479  0.01433478 0.0148574  0.01346872 0.01493206\n",
      " 0.01517097 0.01497686 0.01493206 0.01478274 0.01469315 0.01563387\n",
      " 0.01600717 0.01847096 0.01805286 0.0164402  0.01542482 0.0160221\n",
      " 0.01660445 0.01591758 0.01700762 0.01791847 0.01985964 0.02042706\n",
      " 0.02215918 0.02490667 0.02106914 0.02490279 0.02559288 0.02649985\n",
      " 0.02748615 0.02848978 0.0294932  0.03049313 0.03148924 0.03248156\n",
      " 0.03347014 0.03445506 0.03543651 0.03641474]\n",
      "13 day output [[0.03738998]]\n",
      "14 day input [0.01464835 0.01116918 0.00864566 0.00885471 0.00875019 0.00752576\n",
      " 0.00716739 0.00760042 0.00975063 0.00791399 0.0074511  0.00413618\n",
      " 0.00338958 0.00356876 0.00313573 0.00280723 0.00297148 0.0051217\n",
      " 0.00500224 0.00592803 0.00854114 0.00860087 0.00998955 0.0097357\n",
      " 0.01384202 0.01354338 0.01284157 0.01381215 0.01066149 0.01125877\n",
      " 0.00963118 0.00939227 0.0094072  0.01140809 0.0128565  0.01381215\n",
      " 0.0152307  0.01288637 0.01308048 0.01288637 0.01128864 0.01104972\n",
      " 0.0129461  0.01314021 0.01291623 0.01391668 0.01408093 0.01506645\n",
      " 0.01721666 0.01617142 0.01530536 0.0133194  0.01264745 0.01337912\n",
      " 0.01396148 0.01472301 0.01581305 0.01509631 0.01696282 0.01508138\n",
      " 0.0136479  0.01433478 0.0148574  0.01346872 0.01493206 0.01517097\n",
      " 0.01497686 0.01493206 0.01478274 0.01469315 0.01563387 0.01600717\n",
      " 0.01847096 0.01805286 0.0164402  0.01542482 0.0160221  0.01660445\n",
      " 0.01591758 0.01700762 0.01791847 0.01985964 0.02042706 0.02215918\n",
      " 0.02490667 0.02106914 0.02490279 0.02559288 0.02649985 0.02748615\n",
      " 0.02848978 0.0294932  0.03049313 0.03148924 0.03248156 0.03347014\n",
      " 0.03445506 0.03543651 0.03641474 0.03738998]\n",
      "14 day output [[0.0383625]]\n",
      "15 day input [0.01116918 0.00864566 0.00885471 0.00875019 0.00752576 0.00716739\n",
      " 0.00760042 0.00975063 0.00791399 0.0074511  0.00413618 0.00338958\n",
      " 0.00356876 0.00313573 0.00280723 0.00297148 0.0051217  0.00500224\n",
      " 0.00592803 0.00854114 0.00860087 0.00998955 0.0097357  0.01384202\n",
      " 0.01354338 0.01284157 0.01381215 0.01066149 0.01125877 0.00963118\n",
      " 0.00939227 0.0094072  0.01140809 0.0128565  0.01381215 0.0152307\n",
      " 0.01288637 0.01308048 0.01288637 0.01128864 0.01104972 0.0129461\n",
      " 0.01314021 0.01291623 0.01391668 0.01408093 0.01506645 0.01721666\n",
      " 0.01617142 0.01530536 0.0133194  0.01264745 0.01337912 0.01396148\n",
      " 0.01472301 0.01581305 0.01509631 0.01696282 0.01508138 0.0136479\n",
      " 0.01433478 0.0148574  0.01346872 0.01493206 0.01517097 0.01497686\n",
      " 0.01493206 0.01478274 0.01469315 0.01563387 0.01600717 0.01847096\n",
      " 0.01805286 0.0164402  0.01542482 0.0160221  0.01660445 0.01591758\n",
      " 0.01700762 0.01791847 0.01985964 0.02042706 0.02215918 0.02490667\n",
      " 0.02106914 0.02490279 0.02559288 0.02649985 0.02748615 0.02848978\n",
      " 0.0294932  0.03049313 0.03148924 0.03248156 0.03347014 0.03445506\n",
      " 0.03543651 0.03641474 0.03738998 0.0383625 ]\n",
      "15 day output [[0.03933255]]\n",
      "16 day input [0.00864566 0.00885471 0.00875019 0.00752576 0.00716739 0.00760042\n",
      " 0.00975063 0.00791399 0.0074511  0.00413618 0.00338958 0.00356876\n",
      " 0.00313573 0.00280723 0.00297148 0.0051217  0.00500224 0.00592803\n",
      " 0.00854114 0.00860087 0.00998955 0.0097357  0.01384202 0.01354338\n",
      " 0.01284157 0.01381215 0.01066149 0.01125877 0.00963118 0.00939227\n",
      " 0.0094072  0.01140809 0.0128565  0.01381215 0.0152307  0.01288637\n",
      " 0.01308048 0.01288637 0.01128864 0.01104972 0.0129461  0.01314021\n",
      " 0.01291623 0.01391668 0.01408093 0.01506645 0.01721666 0.01617142\n",
      " 0.01530536 0.0133194  0.01264745 0.01337912 0.01396148 0.01472301\n",
      " 0.01581305 0.01509631 0.01696282 0.01508138 0.0136479  0.01433478\n",
      " 0.0148574  0.01346872 0.01493206 0.01517097 0.01497686 0.01493206\n",
      " 0.01478274 0.01469315 0.01563387 0.01600717 0.01847096 0.01805286\n",
      " 0.0164402  0.01542482 0.0160221  0.01660445 0.01591758 0.01700762\n",
      " 0.01791847 0.01985964 0.02042706 0.02215918 0.02490667 0.02106914\n",
      " 0.02490279 0.02559288 0.02649985 0.02748615 0.02848978 0.0294932\n",
      " 0.03049313 0.03148924 0.03248156 0.03347014 0.03445506 0.03543651\n",
      " 0.03641474 0.03738998 0.0383625  0.03933255]\n",
      "16 day output [[0.04030034]]\n",
      "17 day input [0.00885471 0.00875019 0.00752576 0.00716739 0.00760042 0.00975063\n",
      " 0.00791399 0.0074511  0.00413618 0.00338958 0.00356876 0.00313573\n",
      " 0.00280723 0.00297148 0.0051217  0.00500224 0.00592803 0.00854114\n",
      " 0.00860087 0.00998955 0.0097357  0.01384202 0.01354338 0.01284157\n",
      " 0.01381215 0.01066149 0.01125877 0.00963118 0.00939227 0.0094072\n",
      " 0.01140809 0.0128565  0.01381215 0.0152307  0.01288637 0.01308048\n",
      " 0.01288637 0.01128864 0.01104972 0.0129461  0.01314021 0.01291623\n",
      " 0.01391668 0.01408093 0.01506645 0.01721666 0.01617142 0.01530536\n",
      " 0.0133194  0.01264745 0.01337912 0.01396148 0.01472301 0.01581305\n",
      " 0.01509631 0.01696282 0.01508138 0.0136479  0.01433478 0.0148574\n",
      " 0.01346872 0.01493206 0.01517097 0.01497686 0.01493206 0.01478274\n",
      " 0.01469315 0.01563387 0.01600717 0.01847096 0.01805286 0.0164402\n",
      " 0.01542482 0.0160221  0.01660445 0.01591758 0.01700762 0.01791847\n",
      " 0.01985964 0.02042706 0.02215918 0.02490667 0.02106914 0.02490279\n",
      " 0.02559288 0.02649985 0.02748615 0.02848978 0.0294932  0.03049313\n",
      " 0.03148924 0.03248156 0.03347014 0.03445506 0.03543651 0.03641474\n",
      " 0.03738998 0.0383625  0.03933255 0.04030034]\n",
      "17 day output [[0.04126611]]\n",
      "18 day input [0.00875019 0.00752576 0.00716739 0.00760042 0.00975063 0.00791399\n",
      " 0.0074511  0.00413618 0.00338958 0.00356876 0.00313573 0.00280723\n",
      " 0.00297148 0.0051217  0.00500224 0.00592803 0.00854114 0.00860087\n",
      " 0.00998955 0.0097357  0.01384202 0.01354338 0.01284157 0.01381215\n",
      " 0.01066149 0.01125877 0.00963118 0.00939227 0.0094072  0.01140809\n",
      " 0.0128565  0.01381215 0.0152307  0.01288637 0.01308048 0.01288637\n",
      " 0.01128864 0.01104972 0.0129461  0.01314021 0.01291623 0.01391668\n",
      " 0.01408093 0.01506645 0.01721666 0.01617142 0.01530536 0.0133194\n",
      " 0.01264745 0.01337912 0.01396148 0.01472301 0.01581305 0.01509631\n",
      " 0.01696282 0.01508138 0.0136479  0.01433478 0.0148574  0.01346872\n",
      " 0.01493206 0.01517097 0.01497686 0.01493206 0.01478274 0.01469315\n",
      " 0.01563387 0.01600717 0.01847096 0.01805286 0.0164402  0.01542482\n",
      " 0.0160221  0.01660445 0.01591758 0.01700762 0.01791847 0.01985964\n",
      " 0.02042706 0.02215918 0.02490667 0.02106914 0.02490279 0.02559288\n",
      " 0.02649985 0.02748615 0.02848978 0.0294932  0.03049313 0.03148924\n",
      " 0.03248156 0.03347014 0.03445506 0.03543651 0.03641474 0.03738998\n",
      " 0.0383625  0.03933255 0.04030034 0.04126611]\n"
     ]
    },
    {
     "name": "stdout",
     "output_type": "stream",
     "text": [
      "18 day output [[0.04223003]]\n",
      "19 day input [0.00752576 0.00716739 0.00760042 0.00975063 0.00791399 0.0074511\n",
      " 0.00413618 0.00338958 0.00356876 0.00313573 0.00280723 0.00297148\n",
      " 0.0051217  0.00500224 0.00592803 0.00854114 0.00860087 0.00998955\n",
      " 0.0097357  0.01384202 0.01354338 0.01284157 0.01381215 0.01066149\n",
      " 0.01125877 0.00963118 0.00939227 0.0094072  0.01140809 0.0128565\n",
      " 0.01381215 0.0152307  0.01288637 0.01308048 0.01288637 0.01128864\n",
      " 0.01104972 0.0129461  0.01314021 0.01291623 0.01391668 0.01408093\n",
      " 0.01506645 0.01721666 0.01617142 0.01530536 0.0133194  0.01264745\n",
      " 0.01337912 0.01396148 0.01472301 0.01581305 0.01509631 0.01696282\n",
      " 0.01508138 0.0136479  0.01433478 0.0148574  0.01346872 0.01493206\n",
      " 0.01517097 0.01497686 0.01493206 0.01478274 0.01469315 0.01563387\n",
      " 0.01600717 0.01847096 0.01805286 0.0164402  0.01542482 0.0160221\n",
      " 0.01660445 0.01591758 0.01700762 0.01791847 0.01985964 0.02042706\n",
      " 0.02215918 0.02490667 0.02106914 0.02490279 0.02559288 0.02649985\n",
      " 0.02748615 0.02848978 0.0294932  0.03049313 0.03148924 0.03248156\n",
      " 0.03347014 0.03445506 0.03543651 0.03641474 0.03738998 0.0383625\n",
      " 0.03933255 0.04030034 0.04126611 0.04223003]\n",
      "19 day output [[0.04319225]]\n",
      "20 day input [0.00716739 0.00760042 0.00975063 0.00791399 0.0074511  0.00413618\n",
      " 0.00338958 0.00356876 0.00313573 0.00280723 0.00297148 0.0051217\n",
      " 0.00500224 0.00592803 0.00854114 0.00860087 0.00998955 0.0097357\n",
      " 0.01384202 0.01354338 0.01284157 0.01381215 0.01066149 0.01125877\n",
      " 0.00963118 0.00939227 0.0094072  0.01140809 0.0128565  0.01381215\n",
      " 0.0152307  0.01288637 0.01308048 0.01288637 0.01128864 0.01104972\n",
      " 0.0129461  0.01314021 0.01291623 0.01391668 0.01408093 0.01506645\n",
      " 0.01721666 0.01617142 0.01530536 0.0133194  0.01264745 0.01337912\n",
      " 0.01396148 0.01472301 0.01581305 0.01509631 0.01696282 0.01508138\n",
      " 0.0136479  0.01433478 0.0148574  0.01346872 0.01493206 0.01517097\n",
      " 0.01497686 0.01493206 0.01478274 0.01469315 0.01563387 0.01600717\n",
      " 0.01847096 0.01805286 0.0164402  0.01542482 0.0160221  0.01660445\n",
      " 0.01591758 0.01700762 0.01791847 0.01985964 0.02042706 0.02215918\n",
      " 0.02490667 0.02106914 0.02490279 0.02559288 0.02649985 0.02748615\n",
      " 0.02848978 0.0294932  0.03049313 0.03148924 0.03248156 0.03347014\n",
      " 0.03445506 0.03543651 0.03641474 0.03738998 0.0383625  0.03933255\n",
      " 0.04030034 0.04126611 0.04223003 0.04319225]\n",
      "20 day output [[0.04415295]]\n",
      "21 day input [0.00760042 0.00975063 0.00791399 0.0074511  0.00413618 0.00338958\n",
      " 0.00356876 0.00313573 0.00280723 0.00297148 0.0051217  0.00500224\n",
      " 0.00592803 0.00854114 0.00860087 0.00998955 0.0097357  0.01384202\n",
      " 0.01354338 0.01284157 0.01381215 0.01066149 0.01125877 0.00963118\n",
      " 0.00939227 0.0094072  0.01140809 0.0128565  0.01381215 0.0152307\n",
      " 0.01288637 0.01308048 0.01288637 0.01128864 0.01104972 0.0129461\n",
      " 0.01314021 0.01291623 0.01391668 0.01408093 0.01506645 0.01721666\n",
      " 0.01617142 0.01530536 0.0133194  0.01264745 0.01337912 0.01396148\n",
      " 0.01472301 0.01581305 0.01509631 0.01696282 0.01508138 0.0136479\n",
      " 0.01433478 0.0148574  0.01346872 0.01493206 0.01517097 0.01497686\n",
      " 0.01493206 0.01478274 0.01469315 0.01563387 0.01600717 0.01847096\n",
      " 0.01805286 0.0164402  0.01542482 0.0160221  0.01660445 0.01591758\n",
      " 0.01700762 0.01791847 0.01985964 0.02042706 0.02215918 0.02490667\n",
      " 0.02106914 0.02490279 0.02559288 0.02649985 0.02748615 0.02848978\n",
      " 0.0294932  0.03049313 0.03148924 0.03248156 0.03347014 0.03445506\n",
      " 0.03543651 0.03641474 0.03738998 0.0383625  0.03933255 0.04030034\n",
      " 0.04126611 0.04223003 0.04319225 0.04415295]\n",
      "21 day output [[0.04511226]]\n",
      "22 day input [0.00975063 0.00791399 0.0074511  0.00413618 0.00338958 0.00356876\n",
      " 0.00313573 0.00280723 0.00297148 0.0051217  0.00500224 0.00592803\n",
      " 0.00854114 0.00860087 0.00998955 0.0097357  0.01384202 0.01354338\n",
      " 0.01284157 0.01381215 0.01066149 0.01125877 0.00963118 0.00939227\n",
      " 0.0094072  0.01140809 0.0128565  0.01381215 0.0152307  0.01288637\n",
      " 0.01308048 0.01288637 0.01128864 0.01104972 0.0129461  0.01314021\n",
      " 0.01291623 0.01391668 0.01408093 0.01506645 0.01721666 0.01617142\n",
      " 0.01530536 0.0133194  0.01264745 0.01337912 0.01396148 0.01472301\n",
      " 0.01581305 0.01509631 0.01696282 0.01508138 0.0136479  0.01433478\n",
      " 0.0148574  0.01346872 0.01493206 0.01517097 0.01497686 0.01493206\n",
      " 0.01478274 0.01469315 0.01563387 0.01600717 0.01847096 0.01805286\n",
      " 0.0164402  0.01542482 0.0160221  0.01660445 0.01591758 0.01700762\n",
      " 0.01791847 0.01985964 0.02042706 0.02215918 0.02490667 0.02106914\n",
      " 0.02490279 0.02559288 0.02649985 0.02748615 0.02848978 0.0294932\n",
      " 0.03049313 0.03148924 0.03248156 0.03347014 0.03445506 0.03543651\n",
      " 0.03641474 0.03738998 0.0383625  0.03933255 0.04030034 0.04126611\n",
      " 0.04223003 0.04319225 0.04415295 0.04511226]\n",
      "22 day output [[0.04607029]]\n",
      "23 day input [0.00791399 0.0074511  0.00413618 0.00338958 0.00356876 0.00313573\n",
      " 0.00280723 0.00297148 0.0051217  0.00500224 0.00592803 0.00854114\n",
      " 0.00860087 0.00998955 0.0097357  0.01384202 0.01354338 0.01284157\n",
      " 0.01381215 0.01066149 0.01125877 0.00963118 0.00939227 0.0094072\n",
      " 0.01140809 0.0128565  0.01381215 0.0152307  0.01288637 0.01308048\n",
      " 0.01288637 0.01128864 0.01104972 0.0129461  0.01314021 0.01291623\n",
      " 0.01391668 0.01408093 0.01506645 0.01721666 0.01617142 0.01530536\n",
      " 0.0133194  0.01264745 0.01337912 0.01396148 0.01472301 0.01581305\n",
      " 0.01509631 0.01696282 0.01508138 0.0136479  0.01433478 0.0148574\n",
      " 0.01346872 0.01493206 0.01517097 0.01497686 0.01493206 0.01478274\n",
      " 0.01469315 0.01563387 0.01600717 0.01847096 0.01805286 0.0164402\n",
      " 0.01542482 0.0160221  0.01660445 0.01591758 0.01700762 0.01791847\n",
      " 0.01985964 0.02042706 0.02215918 0.02490667 0.02106914 0.02490279\n",
      " 0.02559288 0.02649985 0.02748615 0.02848978 0.0294932  0.03049313\n",
      " 0.03148924 0.03248156 0.03347014 0.03445506 0.03543651 0.03641474\n",
      " 0.03738998 0.0383625  0.03933255 0.04030034 0.04126611 0.04223003\n",
      " 0.04319225 0.04415295 0.04511226 0.04607029]\n",
      "23 day output [[0.04702716]]\n",
      "24 day input [0.0074511  0.00413618 0.00338958 0.00356876 0.00313573 0.00280723\n",
      " 0.00297148 0.0051217  0.00500224 0.00592803 0.00854114 0.00860087\n",
      " 0.00998955 0.0097357  0.01384202 0.01354338 0.01284157 0.01381215\n",
      " 0.01066149 0.01125877 0.00963118 0.00939227 0.0094072  0.01140809\n",
      " 0.0128565  0.01381215 0.0152307  0.01288637 0.01308048 0.01288637\n",
      " 0.01128864 0.01104972 0.0129461  0.01314021 0.01291623 0.01391668\n",
      " 0.01408093 0.01506645 0.01721666 0.01617142 0.01530536 0.0133194\n",
      " 0.01264745 0.01337912 0.01396148 0.01472301 0.01581305 0.01509631\n",
      " 0.01696282 0.01508138 0.0136479  0.01433478 0.0148574  0.01346872\n",
      " 0.01493206 0.01517097 0.01497686 0.01493206 0.01478274 0.01469315\n",
      " 0.01563387 0.01600717 0.01847096 0.01805286 0.0164402  0.01542482\n",
      " 0.0160221  0.01660445 0.01591758 0.01700762 0.01791847 0.01985964\n",
      " 0.02042706 0.02215918 0.02490667 0.02106914 0.02490279 0.02559288\n",
      " 0.02649985 0.02748615 0.02848978 0.0294932  0.03049313 0.03148924\n",
      " 0.03248156 0.03347014 0.03445506 0.03543651 0.03641474 0.03738998\n",
      " 0.0383625  0.03933255 0.04030034 0.04126611 0.04223003 0.04319225\n",
      " 0.04415295 0.04511226 0.04607029 0.04702716]\n",
      "24 day output [[0.04798296]]\n",
      "25 day input [0.00413618 0.00338958 0.00356876 0.00313573 0.00280723 0.00297148\n",
      " 0.0051217  0.00500224 0.00592803 0.00854114 0.00860087 0.00998955\n",
      " 0.0097357  0.01384202 0.01354338 0.01284157 0.01381215 0.01066149\n",
      " 0.01125877 0.00963118 0.00939227 0.0094072  0.01140809 0.0128565\n",
      " 0.01381215 0.0152307  0.01288637 0.01308048 0.01288637 0.01128864\n",
      " 0.01104972 0.0129461  0.01314021 0.01291623 0.01391668 0.01408093\n",
      " 0.01506645 0.01721666 0.01617142 0.01530536 0.0133194  0.01264745\n",
      " 0.01337912 0.01396148 0.01472301 0.01581305 0.01509631 0.01696282\n",
      " 0.01508138 0.0136479  0.01433478 0.0148574  0.01346872 0.01493206\n",
      " 0.01517097 0.01497686 0.01493206 0.01478274 0.01469315 0.01563387\n",
      " 0.01600717 0.01847096 0.01805286 0.0164402  0.01542482 0.0160221\n",
      " 0.01660445 0.01591758 0.01700762 0.01791847 0.01985964 0.02042706\n",
      " 0.02215918 0.02490667 0.02106914 0.02490279 0.02559288 0.02649985\n",
      " 0.02748615 0.02848978 0.0294932  0.03049313 0.03148924 0.03248156\n",
      " 0.03347014 0.03445506 0.03543651 0.03641474 0.03738998 0.0383625\n",
      " 0.03933255 0.04030034 0.04126611 0.04223003 0.04319225 0.04415295\n",
      " 0.04511226 0.04607029 0.04702716 0.04798296]\n",
      "25 day output [[0.04893778]]\n",
      "26 day input [0.00338958 0.00356876 0.00313573 0.00280723 0.00297148 0.0051217\n",
      " 0.00500224 0.00592803 0.00854114 0.00860087 0.00998955 0.0097357\n",
      " 0.01384202 0.01354338 0.01284157 0.01381215 0.01066149 0.01125877\n",
      " 0.00963118 0.00939227 0.0094072  0.01140809 0.0128565  0.01381215\n",
      " 0.0152307  0.01288637 0.01308048 0.01288637 0.01128864 0.01104972\n",
      " 0.0129461  0.01314021 0.01291623 0.01391668 0.01408093 0.01506645\n",
      " 0.01721666 0.01617142 0.01530536 0.0133194  0.01264745 0.01337912\n",
      " 0.01396148 0.01472301 0.01581305 0.01509631 0.01696282 0.01508138\n",
      " 0.0136479  0.01433478 0.0148574  0.01346872 0.01493206 0.01517097\n",
      " 0.01497686 0.01493206 0.01478274 0.01469315 0.01563387 0.01600717\n",
      " 0.01847096 0.01805286 0.0164402  0.01542482 0.0160221  0.01660445\n",
      " 0.01591758 0.01700762 0.01791847 0.01985964 0.02042706 0.02215918\n",
      " 0.02490667 0.02106914 0.02490279 0.02559288 0.02649985 0.02748615\n",
      " 0.02848978 0.0294932  0.03049313 0.03148924 0.03248156 0.03347014\n",
      " 0.03445506 0.03543651 0.03641474 0.03738998 0.0383625  0.03933255\n",
      " 0.04030034 0.04126611 0.04223003 0.04319225 0.04415295 0.04511226\n",
      " 0.04607029 0.04702716 0.04798296 0.04893778]\n"
     ]
    },
    {
     "name": "stdout",
     "output_type": "stream",
     "text": [
      "26 day output [[0.04989174]]\n",
      "27 day input [0.00356876 0.00313573 0.00280723 0.00297148 0.0051217  0.00500224\n",
      " 0.00592803 0.00854114 0.00860087 0.00998955 0.0097357  0.01384202\n",
      " 0.01354338 0.01284157 0.01381215 0.01066149 0.01125877 0.00963118\n",
      " 0.00939227 0.0094072  0.01140809 0.0128565  0.01381215 0.0152307\n",
      " 0.01288637 0.01308048 0.01288637 0.01128864 0.01104972 0.0129461\n",
      " 0.01314021 0.01291623 0.01391668 0.01408093 0.01506645 0.01721666\n",
      " 0.01617142 0.01530536 0.0133194  0.01264745 0.01337912 0.01396148\n",
      " 0.01472301 0.01581305 0.01509631 0.01696282 0.01508138 0.0136479\n",
      " 0.01433478 0.0148574  0.01346872 0.01493206 0.01517097 0.01497686\n",
      " 0.01493206 0.01478274 0.01469315 0.01563387 0.01600717 0.01847096\n",
      " 0.01805286 0.0164402  0.01542482 0.0160221  0.01660445 0.01591758\n",
      " 0.01700762 0.01791847 0.01985964 0.02042706 0.02215918 0.02490667\n",
      " 0.02106914 0.02490279 0.02559288 0.02649985 0.02748615 0.02848978\n",
      " 0.0294932  0.03049313 0.03148924 0.03248156 0.03347014 0.03445506\n",
      " 0.03543651 0.03641474 0.03738998 0.0383625  0.03933255 0.04030034\n",
      " 0.04126611 0.04223003 0.04319225 0.04415295 0.04511226 0.04607029\n",
      " 0.04702716 0.04798296 0.04893778 0.04989174]\n",
      "27 day output [[0.05084489]]\n",
      "28 day input [0.00313573 0.00280723 0.00297148 0.0051217  0.00500224 0.00592803\n",
      " 0.00854114 0.00860087 0.00998955 0.0097357  0.01384202 0.01354338\n",
      " 0.01284157 0.01381215 0.01066149 0.01125877 0.00963118 0.00939227\n",
      " 0.0094072  0.01140809 0.0128565  0.01381215 0.0152307  0.01288637\n",
      " 0.01308048 0.01288637 0.01128864 0.01104972 0.0129461  0.01314021\n",
      " 0.01291623 0.01391668 0.01408093 0.01506645 0.01721666 0.01617142\n",
      " 0.01530536 0.0133194  0.01264745 0.01337912 0.01396148 0.01472301\n",
      " 0.01581305 0.01509631 0.01696282 0.01508138 0.0136479  0.01433478\n",
      " 0.0148574  0.01346872 0.01493206 0.01517097 0.01497686 0.01493206\n",
      " 0.01478274 0.01469315 0.01563387 0.01600717 0.01847096 0.01805286\n",
      " 0.0164402  0.01542482 0.0160221  0.01660445 0.01591758 0.01700762\n",
      " 0.01791847 0.01985964 0.02042706 0.02215918 0.02490667 0.02106914\n",
      " 0.02490279 0.02559288 0.02649985 0.02748615 0.02848978 0.0294932\n",
      " 0.03049313 0.03148924 0.03248156 0.03347014 0.03445506 0.03543651\n",
      " 0.03641474 0.03738998 0.0383625  0.03933255 0.04030034 0.04126611\n",
      " 0.04223003 0.04319225 0.04415295 0.04511226 0.04607029 0.04702716\n",
      " 0.04798296 0.04893778 0.04989174 0.05084489]\n",
      "28 day output [[0.05179735]]\n",
      "29 day input [0.00280723 0.00297148 0.0051217  0.00500224 0.00592803 0.00854114\n",
      " 0.00860087 0.00998955 0.0097357  0.01384202 0.01354338 0.01284157\n",
      " 0.01381215 0.01066149 0.01125877 0.00963118 0.00939227 0.0094072\n",
      " 0.01140809 0.0128565  0.01381215 0.0152307  0.01288637 0.01308048\n",
      " 0.01288637 0.01128864 0.01104972 0.0129461  0.01314021 0.01291623\n",
      " 0.01391668 0.01408093 0.01506645 0.01721666 0.01617142 0.01530536\n",
      " 0.0133194  0.01264745 0.01337912 0.01396148 0.01472301 0.01581305\n",
      " 0.01509631 0.01696282 0.01508138 0.0136479  0.01433478 0.0148574\n",
      " 0.01346872 0.01493206 0.01517097 0.01497686 0.01493206 0.01478274\n",
      " 0.01469315 0.01563387 0.01600717 0.01847096 0.01805286 0.0164402\n",
      " 0.01542482 0.0160221  0.01660445 0.01591758 0.01700762 0.01791847\n",
      " 0.01985964 0.02042706 0.02215918 0.02490667 0.02106914 0.02490279\n",
      " 0.02559288 0.02649985 0.02748615 0.02848978 0.0294932  0.03049313\n",
      " 0.03148924 0.03248156 0.03347014 0.03445506 0.03543651 0.03641474\n",
      " 0.03738998 0.0383625  0.03933255 0.04030034 0.04126611 0.04223003\n",
      " 0.04319225 0.04415295 0.04511226 0.04607029 0.04702716 0.04798296\n",
      " 0.04893778 0.04989174 0.05084489 0.05179735]\n",
      "29 day output [[0.05274914]]\n",
      "[[0.024902787059545517], [0.025592878460884094], [0.026499848812818527], [0.027486147359013557], [0.028489775955677032], [0.029493199661374092], [0.030493125319480896], [0.031489238142967224], [0.03248155862092972], [0.033470142632722855], [0.034455057233572006], [0.035436514765024185], [0.0364147424697876], [0.037389978766441345], [0.038362495601177216], [0.0393325500190258], [0.040300339460372925], [0.04126610606908798], [0.0422300323843956], [0.04319225251674652], [0.04415295273065567], [0.045112259685993195], [0.04607028514146805], [0.04702715575695038], [0.04798296093940735], [0.048937778919935226], [0.049891743808984756], [0.050844889134168625], [0.05179734528064728], [0.0527491420507431]]\n"
     ]
    }
   ],
   "source": [
    "# demonstrate prediction for next 10 days\n",
    "from numpy import array\n",
    "\n",
    "lst_output=[]\n",
    "n_steps=100\n",
    "i=0\n",
    "while(i<30):\n",
    "    \n",
    "    if(len(temp_input)>100):\n",
    "        #print(temp_input)\n",
    "        x_input=np.array(temp_input[1:])\n",
    "        print(\"{} day input {}\".format(i,x_input))\n",
    "        x_input=x_input.reshape(1,-1)\n",
    "        x_input = x_input.reshape((1, n_steps, 1))\n",
    "        #print(x_input)\n",
    "        yhat = model.predict(x_input, verbose=0)\n",
    "        print(\"{} day output {}\".format(i,yhat))\n",
    "        temp_input.extend(yhat[0].tolist())\n",
    "        temp_input=temp_input[1:]\n",
    "        #print(temp_input)\n",
    "        lst_output.extend(yhat.tolist())\n",
    "        i=i+1\n",
    "    else:\n",
    "        x_input = x_input.reshape((1, n_steps,1))\n",
    "        yhat = model.predict(x_input, verbose=0)\n",
    "        print(yhat[0])\n",
    "        temp_input.extend(yhat[0].tolist())\n",
    "        print(len(temp_input))\n",
    "        lst_output.extend(yhat.tolist())\n",
    "        i=i+1\n",
    "    \n",
    "\n",
    "print(lst_output)"
   ]
  },
  {
   "cell_type": "code",
   "execution_count": 56,
   "metadata": {},
   "outputs": [],
   "source": [
    "day_new=np.arange(1,101)\n",
    "day_pred=np.arange(101,131)"
   ]
  },
  {
   "cell_type": "code",
   "execution_count": 57,
   "metadata": {},
   "outputs": [],
   "source": [
    "import matplotlib.pyplot as plt"
   ]
  },
  {
   "cell_type": "code",
   "execution_count": 58,
   "metadata": {},
   "outputs": [
    {
     "data": {
      "text/plain": [
       "5141"
      ]
     },
     "execution_count": 58,
     "metadata": {},
     "output_type": "execute_result"
    }
   ],
   "source": [
    "len(df1)"
   ]
  },
  {
   "cell_type": "code",
   "execution_count": 59,
   "metadata": {},
   "outputs": [
    {
     "data": {
      "text/plain": [
       "[<matplotlib.lines.Line2D at 0x27fb8ca03d0>]"
      ]
     },
     "execution_count": 59,
     "metadata": {},
     "output_type": "execute_result"
    },
    {
     "data": {
      "image/png": "[encoded data removed]",
      "text/plain": [
       "<Figure size 432x288 with 1 Axes>"
      ]
     },
     "metadata": {
      "needs_background": "light"
     },
     "output_type": "display_data"
    }
   ],
   "source": [
    "plt.plot(day_new,scaler.inverse_transform(df1[5041:]))\n",
    "plt.plot(day_pred,scaler.inverse_transform(lst_output))"
   ]
  },
  {
   "cell_type": "code",
   "execution_count": 60,
   "metadata": {},
   "outputs": [
    {
     "data": {
      "text/plain": [
       "[<matplotlib.lines.Line2D at 0x27fb8a2ac10>]"
      ]
     },
     "execution_count": 60,
     "metadata": {},
     "output_type": "execute_result"
    },
    {
     "data": {
      "image/png": "[encoded data removed]",
      "text/plain": [
       "<Figure size 432x288 with 1 Axes>"
      ]
     },
     "metadata": {
      "needs_background": "light"
     },
     "output_type": "display_data"
    }
   ],
   "source": [
    "df3=df1.tolist()\n",
    "df3.extend(lst_output)\n",
    "plt.plot(df3[1000:])"
   ]
  },
  {
   "cell_type": "code",
   "execution_count": 61,
   "metadata": {},
   "outputs": [],
   "source": [
    "df3=scaler.inverse_transform(df3).tolist()"
   ]
  },
  {
   "cell_type": "code",
   "execution_count": 62,
   "metadata": {},
   "outputs": [
    {
     "data": {
      "text/plain": [
       "[<matplotlib.lines.Line2D at 0x27fb8c09940>]"
      ]
     },
     "execution_count": 62,
     "metadata": {},
     "output_type": "execute_result"
    },
    {
     "data": {
      "image/png": "[encoded data removed]",
      "text/plain": [
       "<Figure size 432x288 with 1 Axes>"
      ]
     },
     "metadata": {
      "needs_background": "light"
     },
     "output_type": "display_data"
    }
   ],
   "source": [
    "plt.plot(df3)"
   ]
  },
  {
   "cell_type": "code",
   "execution_count": null,
   "metadata": {},
   "outputs": [],
   "source": []
  },
  {
   "cell_type": "code",
   "execution_count": null,
   "metadata": {},
   "outputs": [],
   "source": []
  }
 ],
 "metadata": {
  "kernelspec": {
   "display_name": "Python 3",
   "language": "python",
   "name": "python3"
  },
  "language_info": {
   "codemirror_mode": {
    "name": "ipython",
    "version": 3
   },
   "file_extension": ".py",
   "mimetype": "text/x-python",
   "name": "python",
   "nbconvert_exporter": "python",
   "pygments_lexer": "ipython3",
   "version": "3.8.5"
  }
 },
 "nbformat": 4,
 "nbformat_minor": 4
}
